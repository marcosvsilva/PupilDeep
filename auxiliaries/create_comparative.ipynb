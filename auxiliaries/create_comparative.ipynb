{
 "cells": [
  {
   "cell_type": "code",
   "execution_count": 12,
   "metadata": {},
   "outputs": [],
   "source": [
    "import numpy as np\n",
    "import pandas as pd\n",
    "import os\n",
    "import cv2"
   ]
  },
  {
   "cell_type": "code",
   "execution_count": 17,
   "metadata": {},
   "outputs": [],
   "source": [
    "# params\n",
    "folder_1 = 'extract'\n",
    "folder_2 = 'extract_030703_07_2019_08_16_37_create'\n",
    "\n",
    "path_exams_comparative = '/media/marcos/Dados/Projects/Results/PupilDeep/ComparativoVideos2'"
   ]
  },
  {
   "cell_type": "code",
   "execution_count": 18,
   "metadata": {},
   "outputs": [
    {
     "name": "stdout",
     "output_type": "stream",
     "text": [
      "/media/marcos/Dados/Projects/Results/PupilDeep/ComparativoVideos2/extract\n",
      "/media/marcos/Dados/Projects/Results/PupilDeep/ComparativoVideos2/extract_030703_07_2019_08_16_37_create\n",
      "/media/marcos/Dados/Projects/Results/PupilDeep/ComparativoVideos2/comparative.mp4\n"
     ]
    }
   ],
   "source": [
    "path_folder_1 = '{}/{}'.format(path_exams_comparative, folder_1)\n",
    "path_folder_2 = '{}/{}'.format(path_exams_comparative, folder_2)\n",
    "\n",
    "file_out = '{}/comparative.mp4'.format(path_exams_comparative)\n",
    "\n",
    "print(path_folder_1)\n",
    "print(path_folder_2)\n",
    "print(file_out)"
   ]
  },
  {
   "cell_type": "code",
   "execution_count": 19,
   "metadata": {},
   "outputs": [],
   "source": [
    "def create_exam(list_frames, path_writer, size_writer, fps):\n",
    "    out = cv2.VideoWriter(path_writer, cv2.VideoWriter_fourcc(*'DIVX'), fps, size_writer)\n",
    "\n",
    "    for i in range(len(list_frames)):\n",
    "        out.write(img_array[i])\n",
    "    \n",
    "    out.release()"
   ]
  },
  {
   "cell_type": "code",
   "execution_count": 21,
   "metadata": {},
   "outputs": [],
   "source": [
    "img_array = []\n",
    "size = None\n",
    "\n",
    "number_files = len(os.listdir(path_folder_1))\n",
    "for i in range(number_files):       \n",
    "    img_exam_1 = cv2.imread('{}/{}.png'.format(path_folder_1, i))\n",
    "    img_exam_2 = cv2.imread('{}/{}.png'.format(path_folder_2, i))\n",
    "\n",
    "    im_pres = cv2.vconcat([img_exam_1, img_exam_2])\n",
    "\n",
    "    img_array.append(im_pres)\n",
    "\n",
    "    if size is None:\n",
    "        height, width, _ = im_pres.shape\n",
    "        size = (width, height)\n",
    "\n",
    "create_exam(img_array, file_out, size, 17)"
   ]
  },
  {
   "cell_type": "code",
   "execution_count": null,
   "metadata": {},
   "outputs": [],
   "source": []
  },
  {
   "cell_type": "code",
   "execution_count": null,
   "metadata": {},
   "outputs": [],
   "source": []
  }
 ],
 "metadata": {
  "kernelspec": {
   "display_name": "Python 3",
   "language": "python",
   "name": "python3"
  },
  "language_info": {
   "codemirror_mode": {
    "name": "ipython",
    "version": 3
   },
   "file_extension": ".py",
   "mimetype": "text/x-python",
   "name": "python",
   "nbconvert_exporter": "python",
   "pygments_lexer": "ipython3",
   "version": "3.7.4"
  }
 },
 "nbformat": 4,
 "nbformat_minor": 2
}
