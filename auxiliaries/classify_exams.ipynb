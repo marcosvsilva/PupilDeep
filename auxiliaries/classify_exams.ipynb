{
 "cells": [
  {
   "cell_type": "code",
   "execution_count": 62,
   "metadata": {},
   "outputs": [],
   "source": [
    "import os\n",
    "from datetime import datetime"
   ]
  },
  {
   "cell_type": "code",
   "execution_count": 63,
   "metadata": {},
   "outputs": [
    {
     "data": {
      "text/plain": [
       "'/media/marcos/Dados/Projects/PupilDeep/pupil_deep/exams'"
      ]
     },
     "execution_count": 63,
     "metadata": {},
     "output_type": "execute_result"
    }
   ],
   "source": [
    "path = os.getcwd().replace('/auxiliaries', '/pupil_deep/exams')\n",
    "path"
   ]
  },
  {
   "cell_type": "code",
   "execution_count": 64,
   "metadata": {},
   "outputs": [
    {
     "data": {
      "text/plain": [
       "'/media/marcos/Dados/Projects/PupilDeep/analysis/order_exams.txt'"
      ]
     },
     "execution_count": 64,
     "metadata": {},
     "output_type": "execute_result"
    }
   ],
   "source": [
    "path_out = os.getcwd().replace('/auxiliaries', '/analysis')\n",
    "name_out = 'order_exams'\n",
    "out = '{}/{}.txt'.format(path_out, name_out)\n",
    "out"
   ]
  },
  {
   "cell_type": "code",
   "execution_count": 65,
   "metadata": {},
   "outputs": [
    {
     "data": {
      "text/plain": [
       "['030703_07_2019_08_09_08',\n",
       " '030703_07_2019_08_10_26',\n",
       " '030703_07_2019_08_15_23',\n",
       " '030703_07_2019_08_16_37',\n",
       " '030703_07_2019_08_17_35',\n",
       " '0307303_07_2019_08_21_00',\n",
       " '0307303_07_2019_08_22_21',\n",
       " '0307303_07_2019_08_24_04',\n",
       " '0307403_07_2019_08_28_51',\n",
       " '0307403_07_2019_08_30_18']"
      ]
     },
     "execution_count": 65,
     "metadata": {},
     "output_type": "execute_result"
    }
   ],
   "source": [
    "list_exams = [x.replace('.mp4', '') for x in os.listdir(path) if '.mp4' in x]\n",
    "list_exams[0:10]"
   ]
  },
  {
   "cell_type": "code",
   "execution_count": 82,
   "metadata": {},
   "outputs": [
    {
     "name": "stdout",
     "output_type": "stream",
     "text": [
      "[datetime.datetime(2019, 7, 3, 8, 9, 8), datetime.datetime(2019, 7, 3, 8, 10, 26), datetime.datetime(2019, 7, 3, 8, 15, 23), datetime.datetime(2019, 7, 3, 8, 16, 37), datetime.datetime(2019, 7, 3, 8, 17, 35)]\n",
      "[datetime.datetime(2019, 5, 23, 19, 45, 31), datetime.datetime(2019, 5, 23, 19, 47, 51), datetime.datetime(2019, 6, 13, 13, 35, 38), datetime.datetime(2019, 6, 29, 13, 17, 55), datetime.datetime(2019, 6, 29, 13, 18, 45)]\n"
     ]
    }
   ],
   "source": [
    "new_exams = []\n",
    "for exam in list_exams:\n",
    "    pos = exam.find('_')\n",
    "    new_name = exam[pos-2:pos+8]\n",
    "    new_name = '{} {}'.format(new_name.replace('_', '/'), exam[pos+9:pos+18].replace('_', ':'))\n",
    "    datetime_object = datetime.strptime(new_name, '%d/%m/%Y %H:%M:%S')\n",
    "    new_exams.append(datetime_object)\n",
    "    \n",
    "print(new_exams[0:5])\n",
    "new_exams.sort()\n",
    "print(new_exams[0:5])"
   ]
  },
  {
   "cell_type": "code",
   "execution_count": 83,
   "metadata": {},
   "outputs": [],
   "source": [
    "def search_full_name(name):\n",
    "    out = ''\n",
    "    for exam in list_exams:\n",
    "        if name in exam:\n",
    "            out = exam\n",
    "            break            \n",
    "    return out    "
   ]
  },
  {
   "cell_type": "code",
   "execution_count": 84,
   "metadata": {},
   "outputs": [],
   "source": [
    "with open(out, 'w') as file:\n",
    "    for exam in new_exams:\n",
    "        ref = exam.strftime('%d_%m_%Y_%H_%M_%S')\n",
    "        full_name = search_full_name(ref)\n",
    "        file.write('{} - {}.mp4\\n'.format(exam.strftime('%d/%m/%Y %H:%M:%S'), full_name))"
   ]
  },
  {
   "cell_type": "code",
   "execution_count": 85,
   "metadata": {},
   "outputs": [
    {
     "name": "stdout",
     "output_type": "stream",
     "text": [
      "finish\n"
     ]
    }
   ],
   "source": [
    "print('finish')"
   ]
  },
  {
   "cell_type": "code",
   "execution_count": null,
   "metadata": {},
   "outputs": [],
   "source": []
  }
 ],
 "metadata": {
  "kernelspec": {
   "display_name": "Python 3",
   "language": "python",
   "name": "python3"
  },
  "language_info": {
   "codemirror_mode": {
    "name": "ipython",
    "version": 3
   },
   "file_extension": ".py",
   "mimetype": "text/x-python",
   "name": "python",
   "nbconvert_exporter": "python",
   "pygments_lexer": "ipython3",
   "version": "3.6.10"
  }
 },
 "nbformat": 4,
 "nbformat_minor": 4
}
