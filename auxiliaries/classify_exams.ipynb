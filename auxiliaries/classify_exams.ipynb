{
 "cells": [
  {
   "cell_type": "code",
   "execution_count": null,
   "metadata": {},
   "outputs": [],
   "source": [
    "import os\n",
    "from datetime import datetime"
   ]
  },
  {
   "cell_type": "code",
   "execution_count": null,
   "metadata": {},
   "outputs": [],
   "source": [
    "path = os.getcwd().replace('/auxiliaries', '/pupil_deep/exams')\n",
    "path"
   ]
  },
  {
   "cell_type": "code",
   "execution_count": null,
   "metadata": {},
   "outputs": [],
   "source": [
    "path_out = os.getcwd().replace('/auxiliaries', '/analysis')\n",
    "name_out = 'order_exams'\n",
    "out = '{}/{}.txt'.format(path_out, name_out)\n",
    "out"
   ]
  },
  {
   "cell_type": "code",
   "execution_count": null,
   "metadata": {},
   "outputs": [],
   "source": [
    "list_exams = [x.replace('.mp4', '') for x in os.listdir(path) if '.mp4' in x]\n",
    "list_exams[0:10]"
   ]
  },
  {
   "cell_type": "code",
   "execution_count": null,
   "metadata": {},
   "outputs": [],
   "source": [
    "new_exams = []\n",
    "for exam in list_exams:\n",
    "    pos = exam.find('_')\n",
    "    new_name = exam[pos-2:pos+8]\n",
    "    new_name = '{} {}'.format(new_name.replace('_', '/'), exam[pos+9:pos+18].replace('_', ':'))\n",
    "    datetime_object = datetime.strptime(new_name, '%d/%m/%Y %H:%M:%S')\n",
    "    new_exams.append(datetime_object)\n",
    "    \n",
    "print(new_exams[0:5])\n",
    "new_exams.sort()\n",
    "print(new_exams[0:5])"
   ]
  },
  {
   "cell_type": "code",
   "execution_count": null,
   "metadata": {},
   "outputs": [],
   "source": [
    "def search_full_name(name):\n",
    "    out = ''\n",
    "    for exam in list_exams:\n",
    "        if name in exam:\n",
    "            out = exam\n",
    "            break            \n",
    "    return out    "
   ]
  },
  {
   "cell_type": "code",
   "execution_count": null,
   "metadata": {},
   "outputs": [],
   "source": [
    "with open(out, 'w') as file:\n",
    "    for exam in new_exams:\n",
    "        ref = exam.strftime('%d_%m_%Y_%H_%M_%S')\n",
    "        full_name = search_full_name(ref)\n",
    "        file.write('{} - {}.mp4\\n'.format(exam.strftime('%d/%m/%Y %H:%M:%S'), full_name))"
   ]
  },
  {
   "cell_type": "code",
   "execution_count": null,
   "metadata": {},
   "outputs": [],
   "source": [
    "print('finish')"
   ]
  },
  {
   "cell_type": "code",
   "execution_count": null,
   "metadata": {},
   "outputs": [],
   "source": []
  }
 ],
 "metadata": {
  "kernelspec": {
   "display_name": "Python 3",
   "language": "python",
   "name": "python3"
  },
  "language_info": {
   "codemirror_mode": {
    "name": "ipython",
    "version": 3
   },
   "file_extension": ".py",
   "mimetype": "text/x-python",
   "name": "python",
   "nbconvert_exporter": "python",
   "pygments_lexer": "ipython3",
   "version": "3.6.10"
  }
 },
 "nbformat": 4,
 "nbformat_minor": 4
}
