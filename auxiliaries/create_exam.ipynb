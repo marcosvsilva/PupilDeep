{
 "cells": [
  {
   "cell_type": "code",
   "execution_count": 1,
   "metadata": {},
   "outputs": [],
   "source": [
    "import cv2\n",
    "import numpy as np\n",
    "import os"
   ]
  },
  {
   "cell_type": "code",
   "execution_count": 2,
   "metadata": {},
   "outputs": [],
   "source": [
    "# params\n",
    "exam = '25080225_08_2019_08_37_59'\n",
    "\n",
    "path_out = '{}/pupil_deep/eye_test/out'.format(os.getcwd().replace('/auxiliaries',''))\n",
    "full_exam = False"
   ]
  },
  {
   "cell_type": "code",
   "execution_count": 3,
   "metadata": {},
   "outputs": [],
   "source": [
    "paths = []\n",
    "if exam == '':\n",
    "    path = '{}/pupil_deep/eye_test/out/exams'.format(os.getcwd().replace('/auxiliaries',''))\n",
    "    files = os.listdir(path)\n",
    "    paths = ['{}/{}'.format(path, x) for x in files]\n",
    "else:\n",
    "    paths.append('{}/pupil_deep/eye_test/out/{}'.format(os.getcwd().replace('/auxiliaries',''), exam))"
   ]
  },
  {
   "cell_type": "code",
   "execution_count": 4,
   "metadata": {},
   "outputs": [
    {
     "data": {
      "text/plain": [
       "['/media/marcos/Dados/Projects/PupilDeep/pupil_deep/eye_test/out/25080225_08_2019_08_37_59']"
      ]
     },
     "execution_count": 4,
     "metadata": {},
     "output_type": "execute_result"
    }
   ],
   "source": [
    "paths"
   ]
  },
  {
   "cell_type": "code",
   "execution_count": 5,
   "metadata": {
    "scrolled": false
   },
   "outputs": [
    {
     "name": "stdout",
     "output_type": "stream",
     "text": [
      "quantity: 300, examples: ['original_40.png', 'original_41.png', 'original_42.png', 'original_43.png', 'original_44.png', 'original_45.png', 'original_46.png', 'original_47.png', 'original_48.png', 'original_49.png']\n"
     ]
    }
   ],
   "source": [
    "number_files = []\n",
    "os.listdir(paths[0])\n",
    "\n",
    "for file in os.listdir(paths[0]):\n",
    "    if 'original_' in file:\n",
    "        number_files.append(file)\n",
    "\n",
    "print('quantity: {}, examples: {}'.format(len(number_files), number_files[0: 10: 1]))"
   ]
  },
  {
   "cell_type": "code",
   "execution_count": 6,
   "metadata": {},
   "outputs": [],
   "source": [
    "def create_exam(name, list_frames):\n",
    "    out = cv2.VideoWriter('{}/{}.mp4'.format(path_out, name), cv2.VideoWriter_fourcc(*'DIVX'), 15, size)\n",
    "\n",
    "    for i in range(len(list_frames)):\n",
    "        out.write(img_array[i])\n",
    "    \n",
    "    out.release()"
   ]
  },
  {
   "cell_type": "code",
   "execution_count": 7,
   "metadata": {},
   "outputs": [
    {
     "name": "stdout",
     "output_type": "stream",
     "text": [
      "/media/marcos/Dados/Projects/PupilDeep/pupil_deep/eye_test/out/25080225_08_2019_08_37_59\n"
     ]
    }
   ],
   "source": [
    "img_array = []\n",
    "size = None\n",
    "\n",
    "for ex in paths:\n",
    "    print(ex)\n",
    "    for i in range(1, len(number_files)):\n",
    "        path_final = 'final_{}.png'.format(i)\n",
    "        path_binary = 'binary_{}.png'.format(i)\n",
    "        path_process = 'process_{}.png'.format(i)\n",
    "        path_original = 'original_{}.png'.format(i)\n",
    "        path_histogram = 'histogram_{}.png'.format(i)\n",
    "        path_img_process = 'img_process_{}.png'.format(i)\n",
    "\n",
    "        im_final = cv2.imread('{}/{}'.format(ex, path_final))\n",
    "        im_binary = cv2.imread('{}/{}'.format(ex, path_binary))\n",
    "        im_process = cv2.imread('{}/{}'.format(ex, path_process))\n",
    "        im_original = cv2.imread('{}/{}'.format(ex, path_original))\n",
    "        im_histogram = cv2.imread('{}/{}'.format(ex, path_histogram))\n",
    "        im_img_process = cv2.imread('{}/{}'.format(ex, path_img_process))\n",
    "\n",
    "        im_pres = cv2.hconcat([im_original, im_process, im_img_process])\n",
    "\n",
    "        img_array.append(im_pres)\n",
    "\n",
    "        if size is None:\n",
    "            height, width, _ = im_pres.shape\n",
    "            size = (width,height)\n",
    "        \n",
    "    if not full_exam:\n",
    "        tmp = ex.split('/')\n",
    "        create_exam(tmp[len(tmp)-1], img_array)\n",
    "        img_array.clear()\n",
    "\n",
    "if full_exam:\n",
    "    create_exam('full_exam', img_array)"
   ]
  },
  {
   "cell_type": "code",
   "execution_count": null,
   "metadata": {},
   "outputs": [],
   "source": []
  }
 ],
 "metadata": {
  "kernelspec": {
   "display_name": "Python 3",
   "language": "python",
   "name": "python3"
  },
  "language_info": {
   "codemirror_mode": {
    "name": "ipython",
    "version": 3
   },
   "file_extension": ".py",
   "mimetype": "text/x-python",
   "name": "python",
   "nbconvert_exporter": "python",
   "pygments_lexer": "ipython3",
   "version": "3.6.10"
  }
 },
 "nbformat": 4,
 "nbformat_minor": 2
}
