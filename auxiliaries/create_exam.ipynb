{
 "cells": [
  {
   "cell_type": "code",
   "execution_count": 5,
   "metadata": {},
   "outputs": [],
   "source": [
    "import cv2\n",
    "import numpy as np\n",
    "import os"
   ]
  },
  {
   "cell_type": "code",
   "execution_count": 6,
   "metadata": {},
   "outputs": [],
   "source": [
    "dataset_path = '{}\\\\dataset_out'.format(os.getcwd().replace('\\\\auxiliaries',''))"
   ]
  },
  {
   "cell_type": "code",
   "execution_count": 7,
   "metadata": {},
   "outputs": [],
   "source": [
    "list_files = []\n",
    "\n",
    "for file in os.listdir(dataset_path):\n",
    "    list_files.append(int(file.replace('.png','')))\n",
    "\n",
    "list_files = np.sort(list_frames)"
   ]
  },
  {
   "cell_type": "code",
   "execution_count": 16,
   "metadata": {},
   "outputs": [],
   "source": [
    "img_array = []\n",
    "size = None\n",
    "\n",
    "for file in list_files:\n",
    "    filename = '{}\\\\{}.png'.format(dataset_path, file)\n",
    "    img = cv2.imread(filename)\n",
    "    img_array.append(img)\n",
    "    \n",
    "    if size is None:\n",
    "        height, width, layers = img.shape\n",
    "        size = (width,height)"
   ]
  },
  {
   "cell_type": "code",
   "execution_count": 17,
   "metadata": {},
   "outputs": [],
   "source": [
    "out = cv2.VideoWriter('{}\\\\project.avi'.format(dataset_path),cv2.VideoWriter_fourcc(*'DIVX'), 15, size)\n",
    " \n",
    "for i in range(len(img_array)):\n",
    "    out.write(img_array[i])\n",
    "out.release()"
   ]
  }
 ],
 "metadata": {
  "kernelspec": {
   "display_name": "Python 3",
   "language": "python",
   "name": "python3"
  },
  "language_info": {
   "codemirror_mode": {
    "name": "ipython",
    "version": 3
   },
   "file_extension": ".py",
   "mimetype": "text/x-python",
   "name": "python",
   "nbconvert_exporter": "python",
   "pygments_lexer": "ipython3",
   "version": "3.7.4"
  }
 },
 "nbformat": 4,
 "nbformat_minor": 2
}
