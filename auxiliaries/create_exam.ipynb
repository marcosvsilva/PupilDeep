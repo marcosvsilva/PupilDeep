{
 "cells": [
  {
   "cell_type": "code",
   "execution_count": 1,
   "metadata": {},
   "outputs": [],
   "source": [
    "import cv2\n",
    "import numpy as np\n",
    "import os"
   ]
  },
  {
   "cell_type": "code",
   "execution_count": 2,
   "metadata": {},
   "outputs": [],
   "source": [
    "exam = '25080225_08_2019_08_37_59'\n",
    "\n",
    "dataset_path = '{}/pupil_deep/eye_test/out/{}/'.format(os.getcwd().replace('/auxiliaries',''), exam)\n",
    "dataset_out = '{}/pupil_deep/eye_test/out/'.format(os.getcwd().replace('/auxiliaries',''), exam)"
   ]
  },
  {
   "cell_type": "code",
   "execution_count": 3,
   "metadata": {},
   "outputs": [
    {
     "data": {
      "text/plain": [
       "'/media/marcos/Dados/Projects/PupilDeep/pupil_deep/eye_test/out/25080225_08_2019_08_37_59/'"
      ]
     },
     "execution_count": 3,
     "metadata": {},
     "output_type": "execute_result"
    }
   ],
   "source": [
    "dataset_path"
   ]
  },
  {
   "cell_type": "code",
   "execution_count": 4,
   "metadata": {},
   "outputs": [
    {
     "name": "stdout",
     "output_type": "stream",
     "text": [
      "original: 300, examples: ['image_1.png', 'image_10.png', 'image_100.png', 'image_101.png', 'image_102.png', 'image_103.png', 'image_104.png', 'image_105.png', 'image_106.png', 'image_107.png']\n",
      "process: 300, examples: ['image_process_40.png', 'image_process_41.png', 'image_process_42.png', 'image_process_43.png', 'image_process_44.png', 'image_process_45.png', 'image_process_46.png', 'image_process_47.png', 'image_process_48.png', 'image_process_49.png']\n"
     ]
    }
   ],
   "source": [
    "original_files = []\n",
    "image_process = []\n",
    "\n",
    "for file in os.listdir(dataset_path):\n",
    "    if ('image_' in file) and ('image_process' not in file):\n",
    "        original_files.append(file)\n",
    "    \n",
    "    if 'image_process' in file:\n",
    "        image_process.append(file)\n",
    "        \n",
    "\n",
    "print('original: {}, examples: {}'.format(len(original_files), original_files[0: 10: 1]))\n",
    "print('process: {}, examples: {}'.format(len(image_process), image_process[0: 10: 1]))"
   ]
  },
  {
   "cell_type": "code",
   "execution_count": 5,
   "metadata": {},
   "outputs": [],
   "source": [
    "img_array = []\n",
    "size = None\n",
    "\n",
    "if len(original_files) == len(image_process):\n",
    "    for i in range(1, len(original_files)):\n",
    "        path_img_orig = 'original_{}.png'.format(i)\n",
    "        path_img_proc = 'image_process_{}.png'.format(i)\n",
    "        path_img_final = 'image_{}.png'.format(i)\n",
    "        \n",
    "        img_orig = cv2.imread('{}/{}'.format(dataset_path, path_img_orig))\n",
    "        img_proc = cv2.imread('{}/{}'.format(dataset_path, path_img_proc))\n",
    "        img_final = cv2.imread('{}/{}'.format(dataset_path, path_img_final))\n",
    "        \n",
    "        img_presentation = cv2.hconcat([img_orig, img_proc, img_final])\n",
    "        img_array.append(img_presentation)\n",
    "        \n",
    "        if size is None:\n",
    "            height, width, _ = img_presentation.shape\n",
    "            size = (width,height)"
   ]
  },
  {
   "cell_type": "code",
   "execution_count": 6,
   "metadata": {},
   "outputs": [],
   "source": [
    "out = cv2.VideoWriter('{}/{}.mp4'.format(dataset_out, exam), cv2.VideoWriter_fourcc(*'DIVX'), 30, size)\n",
    " \n",
    "for i in range(len(img_array)):\n",
    "    out.write(img_array[i])\n",
    "out.release()"
   ]
  },
  {
   "cell_type": "code",
   "execution_count": null,
   "metadata": {},
   "outputs": [],
   "source": []
  }
 ],
 "metadata": {
  "kernelspec": {
   "display_name": "Python 3",
   "language": "python",
   "name": "python3"
  },
  "language_info": {
   "codemirror_mode": {
    "name": "ipython",
    "version": 3
   },
   "file_extension": ".py",
   "mimetype": "text/x-python",
   "name": "python",
   "nbconvert_exporter": "python",
   "pygments_lexer": "ipython3",
   "version": "3.6.10"
  }
 },
 "nbformat": 4,
 "nbformat_minor": 2
}
