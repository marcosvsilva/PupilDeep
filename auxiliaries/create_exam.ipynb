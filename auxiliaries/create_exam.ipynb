{
 "cells": [
  {
   "cell_type": "code",
   "execution_count": 21,
   "metadata": {},
   "outputs": [],
   "source": [
    "import numpy as np\n",
    "import pandas as pd\n",
    "import os\n",
    "import cv2"
   ]
  },
  {
   "cell_type": "code",
   "execution_count": 22,
   "metadata": {},
   "outputs": [],
   "source": [
    "# params\n",
    "exam = ''\n",
    "\n",
    "path_out = '/media/marcos/Dados/Projects/Results/PupilDeep/analysis_benchmark_2'\n",
    "\n",
    "path_exam = '/media/marcos/Dados/Projects/Results/PupilDeep/Frames'\n",
    "path_label = '/media/marcos/Dados/Projects/Results/PupilDeep/Labels'\n",
    "\n",
    "full_exam = False"
   ]
  },
  {
   "cell_type": "code",
   "execution_count": 23,
   "metadata": {},
   "outputs": [
    {
     "data": {
      "text/plain": [
       "['/media/marcos/Dados/Projects/Results/PupilDeep/Frames/benchmark']"
      ]
     },
     "execution_count": 23,
     "metadata": {},
     "output_type": "execute_result"
    }
   ],
   "source": [
    "paths_frames = []\n",
    "if exam == '':\n",
    "    files = os.listdir(path_exam)\n",
    "    paths_frames = ['{}/{}'.format(path_exam, x) for x in files]\n",
    "else:\n",
    "    paths_frames.append('{}/{}'.format(path_exam, exam))\n",
    "\n",
    "paths_frames"
   ]
  },
  {
   "cell_type": "code",
   "execution_count": 24,
   "metadata": {
    "scrolled": false
   },
   "outputs": [
    {
     "name": "stdout",
     "output_type": "stream",
     "text": [
      "quantity: 1800, examples: ['original_40.png', 'original_400.png', 'original_401.png', 'original_402.png', 'original_403.png', 'original_404.png', 'original_405.png', 'original_406.png', 'original_407.png', 'original_408.png']\n"
     ]
    }
   ],
   "source": [
    "number_files = []\n",
    "os.listdir(paths_frames[0])\n",
    "\n",
    "for file in os.listdir(paths_frames[0]):\n",
    "    if 'original_' in file:\n",
    "        number_files.append(file)\n",
    "\n",
    "print('quantity: {}, examples: {}'.format(len(number_files), number_files[0: 10: 1]))"
   ]
  },
  {
   "cell_type": "code",
   "execution_count": 25,
   "metadata": {},
   "outputs": [],
   "source": [
    "def create_exam(name, list_frames):\n",
    "    out = cv2.VideoWriter('{}/{}.mp4'.format(path_out, name), cv2.VideoWriter_fourcc(*'DIVX'), 20, size)\n",
    "\n",
    "    for i in range(len(list_frames)):\n",
    "        out.write(img_array[i])\n",
    "    \n",
    "    out.release()"
   ]
  },
  {
   "cell_type": "code",
   "execution_count": 26,
   "metadata": {},
   "outputs": [],
   "source": [
    "img_array = []\n",
    "size = None\n",
    "\n",
    "for ex in paths_frames:\n",
    "    name_exam = ex[ex.rfind('/') + 1 : len(ex)]\n",
    "    label = '{}/{}_label.csv'.format(path_label, name_exam)\n",
    "    dataset = pd.read_csv(label)\n",
    "    \n",
    "    for i in range(len(number_files)):       \n",
    "        path_final = 'final_{}.png'.format(i)\n",
    "        path_binary = 'binary_{}.png'.format(i)\n",
    "        path_process = 'process_{}.png'.format(i)\n",
    "        path_original = 'original_{}.png'.format(i)\n",
    "        path_histogram = 'histogram_{}.png'.format(i)\n",
    "        path_img_process = 'img_process_{}.png'.format(i)\n",
    "\n",
    "        im_final = cv2.imread('{}/{}'.format(ex, path_final))\n",
    "        im_binary = cv2.imread('{}/{}'.format(ex, path_binary))\n",
    "        im_process = cv2.imread('{}/{}'.format(ex, path_process))\n",
    "        im_original = cv2.imread('{}/{}'.format(ex, path_original))\n",
    "        im_histogram = cv2.imread('{}/{}'.format(ex, path_histogram))\n",
    "        im_img_process = cv2.imread('{}/{}'.format(ex, path_img_process))\n",
    "\n",
    "        im_pres = cv2.hconcat([im_original, im_process, im_binary, im_img_process])\n",
    "        \n",
    "        label = 'Frame=%d;Radius=%d;Center=(%d,%d);Eye=(%d)' % (dataset['frame'][i],\n",
    "                                                                dataset['radius'][i],\n",
    "                                                                dataset['center_x'][i],\n",
    "                                                                dataset['center_y'][i],\n",
    "                                                                0)\n",
    "        \n",
    "        cv2.putText(im_pres, label, (600, 30), cv2.FONT_HERSHEY_DUPLEX, 0.9, (170, 170, 0))\n",
    "\n",
    "        img_array.append(im_pres)\n",
    "\n",
    "        if size is None:\n",
    "            height, width, _ = im_pres.shape\n",
    "            size = (width, height)\n",
    "        \n",
    "    if not full_exam:\n",
    "        tmp = ex.split('/')\n",
    "        create_exam(tmp[len(tmp)-1], img_array)\n",
    "        img_array.clear()\n",
    "\n",
    "if full_exam:\n",
    "    create_exam('full_exam', img_array)"
   ]
  },
  {
   "cell_type": "code",
   "execution_count": null,
   "metadata": {},
   "outputs": [],
   "source": []
  }
 ],
 "metadata": {
  "kernelspec": {
   "display_name": "Python 3",
   "language": "python",
   "name": "python3"
  },
  "language_info": {
   "codemirror_mode": {
    "name": "ipython",
    "version": 3
   },
   "file_extension": ".py",
   "mimetype": "text/x-python",
   "name": "python",
   "nbconvert_exporter": "python",
   "pygments_lexer": "ipython3",
   "version": "3.6.10"
  }
 },
 "nbformat": 4,
 "nbformat_minor": 2
}
