{
 "cells": [
  {
   "cell_type": "code",
   "execution_count": null,
   "metadata": {},
   "outputs": [],
   "source": [
    "import numpy as np\n",
    "import pandas as pd\n",
    "import os\n",
    "import cv2"
   ]
  },
  {
   "cell_type": "code",
   "execution_count": null,
   "metadata": {},
   "outputs": [],
   "source": [
    "# params\n",
    "exam = '030703_07_2019_08_09_08'\n",
    "folder_exams = 'Frames'\n",
    "folder_labels = 'Labels'\n",
    "\n",
    "full_exam = False"
   ]
  },
  {
   "cell_type": "code",
   "execution_count": null,
   "metadata": {},
   "outputs": [],
   "source": [
    "path_original_exams = '/media/marcos/Dados/Projects/Datasets/Exams'\n",
    "path_exams = '/media/marcos/Dados/Projects/Results/PupilDeep/{}'.format(folder_exams)\n",
    "path_labels = '/media/marcos/Dados/Projects/Results/PupilDeep/{}'.format(folder_labels)\n",
    "path_out = '{}/exams'.format(path_exams)\n",
    "\n",
    "print(path_original_exams, path_exams, path_labels, path_out)"
   ]
  },
  {
   "cell_type": "code",
   "execution_count": null,
   "metadata": {},
   "outputs": [],
   "source": [
    "paths_frames = []\n",
    "if exam == '':\n",
    "    if os.path.exists(path_out):\n",
    "        frames_exists = list(map(lambda x: x.replace('.mp4', ''), os.listdir(path_out)))\n",
    "        frames_total = ['{}'.format(x) for x in os.listdir(path_exams) if ('.' not in x) and ('exams' not in x)]\n",
    "        paths_frames = ['{}/{}'.format(path_exams, x) for x in frames_total if x not in frames_exists]\n",
    "    else:\n",
    "        paths_frames = ['{}/{}'.format(path_exams, x) for x in os.listdir(path_exams) if '.' not in x]\n",
    "else:\n",
    "    paths_frames.append('{}/{}'.format(path_exams, exam))\n",
    "\n",
    "print(paths_frames[0:5])\n",
    "print(len(paths_frames))"
   ]
  },
  {
   "cell_type": "code",
   "execution_count": null,
   "metadata": {},
   "outputs": [],
   "source": [
    "def create_exam(list_frames, path_writer, size_writer, fps):\n",
    "    out = cv2.VideoWriter(path_writer, cv2.VideoWriter_fourcc(*'DIVX'), fps, size_writer)\n",
    "\n",
    "    for i in range(len(list_frames)):\n",
    "        out.write(img_array[i])\n",
    "    \n",
    "    out.release()"
   ]
  },
  {
   "cell_type": "code",
   "execution_count": null,
   "metadata": {},
   "outputs": [],
   "source": [
    "def make_path(path):\n",
    "    try:\n",
    "        os.mkdir(path)\n",
    "    except FileExistsError:\n",
    "        pass"
   ]
  },
  {
   "cell_type": "code",
   "execution_count": null,
   "metadata": {},
   "outputs": [],
   "source": [
    "img_array = []\n",
    "size = None\n",
    "\n",
    "make_path(path_out)\n",
    "\n",
    "for ex in paths_frames:    \n",
    "    name_exam = ex[ex.rfind('/') + 1 : len(ex)]    \n",
    "    path_writer = '{}/{}.mp4'.format(path_out, name_exam)\n",
    "           \n",
    "    path_original_exam = '{}/{}.mp4'.format(path_original_exams, name_exam)    \n",
    "    original_exam = cv2.VideoCapture(path_original_exam)\n",
    "    fps = original_exam.get(cv2.CAP_PROP_FPS)\n",
    "\n",
    "    label = '{}/{}_label.csv'.format(path_labels, name_exam)\n",
    "    print(label)\n",
    "    dataset = pd.read_csv(label)\n",
    "\n",
    "    number_files = int(len(os.listdir(ex)) / 5)\n",
    "    for i in range(number_files):       \n",
    "        path_final = 'final_{}.png'.format(i)\n",
    "        path_binary = 'binary_{}.png'.format(i)\n",
    "        path_process = 'process_{}.png'.format(i)\n",
    "        path_original = 'original_{}.png'.format(i)\n",
    "        path_histogram = 'histogram_{}.png'.format(i)\n",
    "        path_img_process = 'img_process_{}.png'.format(i)\n",
    "\n",
    "        im_final = cv2.imread('{}/{}'.format(ex, path_final))\n",
    "        im_binary = cv2.imread('{}/{}'.format(ex, path_binary))\n",
    "        im_process = cv2.imread('{}/{}'.format(ex, path_process))\n",
    "        im_original = cv2.imread('{}/{}'.format(ex, path_original))\n",
    "        im_histogram = cv2.imread('{}/{}'.format(ex, path_histogram))\n",
    "        im_img_process = cv2.imread('{}/{}'.format(ex, path_img_process))\n",
    "\n",
    "        im_pres = cv2.hconcat([im_original, im_process, im_binary, im_img_process])\n",
    "\n",
    "        label = 'Frame=%d;Radius=%d;Center=(%d,%d);Eye=(%d)' % (dataset['frame'][i],\n",
    "                                                                dataset['radius'][i],\n",
    "                                                                dataset['center_x'][i],\n",
    "                                                                dataset['center_y'][i],\n",
    "                                                                0)\n",
    "\n",
    "        cv2.putText(im_pres, label, (600, 30), cv2.FONT_HERSHEY_DUPLEX, 0.9, (170, 170, 0))\n",
    "\n",
    "        img_array.append(im_pres)\n",
    "\n",
    "        if size is None:\n",
    "            height, width, _ = im_pres.shape\n",
    "            size = (width, height)\n",
    "\n",
    "    if not full_exam:\n",
    "        create_exam(img_array, path_writer, size, fps)\n",
    "        img_array.clear()\n",
    "\n",
    "if full_exam:\n",
    "    create_exam('full_exam', img_array)"
   ]
  },
  {
   "cell_type": "code",
   "execution_count": null,
   "metadata": {},
   "outputs": [],
   "source": []
  }
 ],
 "metadata": {
  "kernelspec": {
   "display_name": "Python 3",
   "language": "python",
   "name": "python3"
  },
  "language_info": {
   "codemirror_mode": {
    "name": "ipython",
    "version": 3
   },
   "file_extension": ".py",
   "mimetype": "text/x-python",
   "name": "python",
   "nbconvert_exporter": "python",
   "pygments_lexer": "ipython3",
   "version": "3.7.4"
  }
 },
 "nbformat": 4,
 "nbformat_minor": 2
}
