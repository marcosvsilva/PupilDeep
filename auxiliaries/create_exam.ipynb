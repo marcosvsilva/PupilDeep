{
 "cells": [
  {
   "cell_type": "code",
   "execution_count": 1,
   "metadata": {},
   "outputs": [],
   "source": [
    "import cv2\n",
    "import numpy as np\n",
    "import os"
   ]
  },
  {
   "cell_type": "code",
   "execution_count": 2,
   "metadata": {},
   "outputs": [],
   "source": [
    "exam = '25080425_08_2019_09_08_25'\n",
    "\n",
    "dataset_path = '{}/pupil_deep/eye_test/out/{}/'.format(os.getcwd().replace('/auxiliaries',''), exam)\n",
    "dataset_out = '{}/pupil_deep/eye_test/out/'.format(os.getcwd().replace('/auxiliaries',''), exam)"
   ]
  },
  {
   "cell_type": "code",
   "execution_count": 3,
   "metadata": {},
   "outputs": [
    {
     "data": {
      "text/plain": [
       "'/media/marcos/Dados/Projects/PupilDeep/pupil_deep/eye_test/out/25080425_08_2019_09_08_25/'"
      ]
     },
     "execution_count": 3,
     "metadata": {},
     "output_type": "execute_result"
    }
   ],
   "source": [
    "dataset_path"
   ]
  },
  {
   "cell_type": "code",
   "execution_count": 4,
   "metadata": {},
   "outputs": [],
   "source": [
    "list_files = []\n",
    "\n",
    "for file in os.listdir(dataset_path):\n",
    "    if 'binary' not in file:\n",
    "        list_files.append(int(file.replace('.png','')))\n",
    "\n",
    "list_files = np.sort(list_files)"
   ]
  },
  {
   "cell_type": "code",
   "execution_count": 5,
   "metadata": {},
   "outputs": [
    {
     "data": {
      "text/plain": [
       "array([   0,    1,    2, ..., 1967, 1968, 1969])"
      ]
     },
     "execution_count": 5,
     "metadata": {},
     "output_type": "execute_result"
    }
   ],
   "source": [
    "list_files"
   ]
  },
  {
   "cell_type": "code",
   "execution_count": 6,
   "metadata": {},
   "outputs": [],
   "source": [
    "img_array = []\n",
    "size = None\n",
    "\n",
    "for file in list_files:\n",
    "    filename = '{}/{}.png'.format(dataset_path, file)\n",
    "    img = cv2.imread(filename)\n",
    "    img_array.append(img)\n",
    "    \n",
    "    if size is None:\n",
    "        height, width, layers = img.shape\n",
    "        size = (width,height)"
   ]
  },
  {
   "cell_type": "code",
   "execution_count": 7,
   "metadata": {},
   "outputs": [],
   "source": [
    "out = cv2.VideoWriter('{}/{}.mp4'.format(dataset_out, exam), cv2.VideoWriter_fourcc(*'DIVX'), 30, size)\n",
    " \n",
    "for i in range(len(img_array)):\n",
    "    out.write(img_array[i])\n",
    "out.release()"
   ]
  },
  {
   "cell_type": "code",
   "execution_count": null,
   "metadata": {},
   "outputs": [],
   "source": []
  }
 ],
 "metadata": {
  "kernelspec": {
   "display_name": "Python 3",
   "language": "python",
   "name": "python3"
  },
  "language_info": {
   "codemirror_mode": {
    "name": "ipython",
    "version": 3
   },
   "file_extension": ".py",
   "mimetype": "text/x-python",
   "name": "python",
   "nbconvert_exporter": "python",
   "pygments_lexer": "ipython3",
   "version": "3.6.10"
  }
 },
 "nbformat": 4,
 "nbformat_minor": 2
}
