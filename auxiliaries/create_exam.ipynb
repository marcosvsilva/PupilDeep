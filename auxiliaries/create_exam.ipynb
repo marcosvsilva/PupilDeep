{
 "cells": [
  {
   "cell_type": "code",
   "execution_count": 1,
   "metadata": {},
   "outputs": [],
   "source": [
    "import cv2\n",
    "import numpy as np\n",
    "import os"
   ]
  },
  {
   "cell_type": "code",
   "execution_count": 2,
   "metadata": {},
   "outputs": [],
   "source": [
    "exam = '25080225_08_2019_08_37_59'\n",
    "path_out = '{}/pupil_deep/eye_test/out'.format(os.getcwd().replace('/auxiliaries',''))"
   ]
  },
  {
   "cell_type": "code",
   "execution_count": 3,
   "metadata": {},
   "outputs": [],
   "source": [
    "paths = []\n",
    "if exam == '':\n",
    "    path = '{}/pupil_deep/eye_test/out/exam'.format(os.getcwd().replace('/auxiliaries',''))\n",
    "    files = os.listdir(path)\n",
    "    paths = ['{}/{}'.format(path, x) for x in files]\n",
    "else:\n",
    "    paths.append('{}/pupil_deep/eye_test/out/{}'.format(os.getcwd().replace('/auxiliaries',''), exam))"
   ]
  },
  {
   "cell_type": "code",
   "execution_count": 4,
   "metadata": {},
   "outputs": [
    {
     "data": {
      "text/plain": [
       "['/media/marcos/Dados/Projects/PupilDeep/pupil_deep/eye_test/out/25080225_08_2019_08_37_59']"
      ]
     },
     "execution_count": 4,
     "metadata": {},
     "output_type": "execute_result"
    }
   ],
   "source": [
    "paths"
   ]
  },
  {
   "cell_type": "code",
   "execution_count": 5,
   "metadata": {
    "scrolled": false
   },
   "outputs": [
    {
     "name": "stdout",
     "output_type": "stream",
     "text": [
      "quantity: 10, examples: ['original_0.png', 'original_1.png', 'original_3.png', 'original_4.png', 'original_5.png', 'original_6.png', 'original_7.png', 'original_8.png', 'original_9.png', 'original_2.png']\n"
     ]
    }
   ],
   "source": [
    "number_files = []\n",
    "os.listdir(paths[0])\n",
    "\n",
    "for file in os.listdir(paths[0]):\n",
    "    if 'original_' in file:\n",
    "        number_files.append(file)\n",
    "\n",
    "print('quantity: {}, examples: {}'.format(len(number_files), number_files[0: 10: 1]))"
   ]
  },
  {
   "cell_type": "code",
   "execution_count": 6,
   "metadata": {},
   "outputs": [],
   "source": [
    "img_array = []\n",
    "size = None\n",
    "\n",
    "for ex in paths:\n",
    "    for i in range(1, len(number_files)):\n",
    "        path_im_orig = 'original_{}.png'.format(i)\n",
    "\n",
    "        path_im_proc = 'process_{}.png'.format(i)\n",
    "        path_im_bin_pre = 'binary_pre_process_{}.png'.format(i)\n",
    "\n",
    "        path_im_reflex = 'img_no_reflex_{}.png'.format(i)\n",
    "        path_im_bin = 'binary_process_{}.png'.format(i)        \n",
    "\n",
    "        path_im_final = 'final_{}.png'.format(i)\n",
    "\n",
    "        im_orig = cv2.imread('{}/{}'.format(ex, path_im_orig))\n",
    "        im_proc = cv2.imread('{}/{}'.format(ex, path_im_proc))\n",
    "        im_bin_pre = cv2.imread('{}/{}'.format(ex, path_im_bin_pre))\n",
    "        im_reflex = cv2.imread('{}/{}'.format(ex, path_im_reflex))\n",
    "        im_bin = cv2.imread('{}/{}'.format(ex, path_im_bin))\n",
    "        im_final = cv2.imread('{}/{}'.format(ex, path_im_final))        \n",
    "\n",
    "        im_pres1 = cv2.hconcat([im_orig, im_proc, im_bin_pre])\n",
    "        im_pres2 = cv2.hconcat([im_reflex, im_bin, im_final])\n",
    "        im_pres = cv2.vconcat([im_pres1, im_pres2])\n",
    "\n",
    "        img_array.append(im_pres)\n",
    "\n",
    "        if size is None:\n",
    "            height, width, _ = im_pres.shape\n",
    "            size = (width,height)"
   ]
  },
  {
   "cell_type": "code",
   "execution_count": 7,
   "metadata": {
    "scrolled": false
   },
   "outputs": [],
   "source": [
    "if exam == '':\n",
    "    exam = 'full_exams'\n",
    "\n",
    "out = cv2.VideoWriter('{}/{}.mp4'.format(path_out, exam), cv2.VideoWriter_fourcc(*'DIVX'), 15, size)\n",
    "\n",
    "for i in range(len(img_array)):\n",
    "    out.write(img_array[i])\n",
    "out.release()"
   ]
  },
  {
   "cell_type": "code",
   "execution_count": null,
   "metadata": {},
   "outputs": [],
   "source": []
  }
 ],
 "metadata": {
  "kernelspec": {
   "display_name": "Python 3",
   "language": "python",
   "name": "python3"
  },
  "language_info": {
   "codemirror_mode": {
    "name": "ipython",
    "version": 3
   },
   "file_extension": ".py",
   "mimetype": "text/x-python",
   "name": "python",
   "nbconvert_exporter": "python",
   "pygments_lexer": "ipython3",
   "version": "3.6.10"
  }
 },
 "nbformat": 4,
 "nbformat_minor": 2
}
