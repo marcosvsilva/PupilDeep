{
 "cells": [
  {
   "cell_type": "code",
   "execution_count": 26,
   "metadata": {},
   "outputs": [],
   "source": [
    "import os\n",
    "import pandas as pd"
   ]
  },
  {
   "cell_type": "code",
   "execution_count": 4,
   "metadata": {},
   "outputs": [
    {
     "name": "stdout",
     "output_type": "stream",
     "text": [
      "/media/marcos/Dados/Projects/PupilDeep/pupil_deep/out/execution/benchmark\n"
     ]
    }
   ],
   "source": [
    "path = os.getcwd().replace('auxiliaries', 'pupil_deep/out/execution/benchmark')\n",
    "print(path)"
   ]
  },
  {
   "cell_type": "code",
   "execution_count": 6,
   "metadata": {},
   "outputs": [
    {
     "name": "stdout",
     "output_type": "stream",
     "text": [
      "['img_process_0.png', 'binary_0.png', 'binary_1.png', 'binary_10.png', 'binary_100.png', 'binary_1000.png', 'binary_1001.png', 'binary_1002.png', 'binary_1003.png', 'binary_1004.png', 'binary_1005.png', 'binary_1006.png', 'binary_1007.png', 'binary_1008.png', 'binary_1009.png', 'binary_101.png', 'binary_1010.png', 'binary_1011.png', 'img_process_1.png', 'img_process_10.png', 'img_process_100.png', 'img_process_1000.png', 'img_process_1001.png', 'img_process_1002.png', 'img_process_1003.png', 'img_process_1004.png', 'img_process_1005.png', 'img_process_1006.png', 'img_process_1007.png', 'img_process_1008.png', 'img_process_1009.png', 'img_process_101.png', 'img_process_1010.png', 'img_process_1011.png', 'original_40.png', 'original_400.png', 'original_401.png', 'original_402.png', 'original_403.png', 'original_404.png', 'original_405.png', 'original_406.png', 'original_407.png', 'original_408.png', 'original_409.png', 'original_41.png', 'original_410.png', 'original_411.png', 'original_412.png', 'original_413.png']\n"
     ]
    }
   ],
   "source": [
    "print(os.listdir(path)[0:50])"
   ]
  },
  {
   "cell_type": "code",
   "execution_count": 22,
   "metadata": {},
   "outputs": [],
   "source": [
    "for i in range(200):\n",
    "    final = '%s/final_%d.png' % (path, i)\n",
    "    binary = '%s/binary_%d.png' % (path, i)\n",
    "    process = '%s/process_%d.png' % (path, i)\n",
    "    original = '%s/original_%d.png' % (path, i)\n",
    "    histogram = '%s/histogram_%d.png' % (path, i)\n",
    "    img_process = '%s/img_process_%d.png' % (path, i)\n",
    "    \n",
    "    os.remove(final)\n",
    "    os.remove(binary)\n",
    "    os.remove(process)\n",
    "    os.remove(original)\n",
    "    os.remove(histogram)\n",
    "    os.remove(img_process)"
   ]
  },
  {
   "cell_type": "code",
   "execution_count": 24,
   "metadata": {},
   "outputs": [],
   "source": [
    "for i in range(1800):\n",
    "    final_old = '%s/final_%d.png' % (path, i+200)\n",
    "    final_new = '%s/final_%d.png' % (path, i)\n",
    "    \n",
    "    binary_old = '%s/binary_%d.png' % (path, i+200)\n",
    "    binary_new = '%s/binary_%d.png' % (path, i)\n",
    "    \n",
    "    process_old = '%s/process_%d.png' % (path, i+200)\n",
    "    process_new = '%s/process_%d.png' % (path, i)\n",
    "    \n",
    "    original_old = '%s/original_%d.png' % (path, i+200)\n",
    "    original_new = '%s/original_%d.png' % (path, i)\n",
    "    \n",
    "    histogram_old = '%s/histogram_%d.png' % (path, i+200)\n",
    "    histogram_new = '%s/histogram_%d.png' % (path, i)\n",
    "    \n",
    "    img_process_old = '%s/img_process_%d.png' % (path, i+200)\n",
    "    img_process_new = '%s/img_process_%d.png' % (path, i)    \n",
    "  \n",
    "    os.rename(final_old, final_new)\n",
    "    os.rename(binary_old, binary_new)\n",
    "    os.rename(process_old, process_new)\n",
    "    os.rename(original_old, original_new)\n",
    "    os.rename(histogram_old, histogram_new)\n",
    "    os.rename(img_process_old, img_process_new)"
   ]
  },
  {
   "cell_type": "code",
   "execution_count": 38,
   "metadata": {},
   "outputs": [
    {
     "data": {
      "text/html": [
       "<div>\n",
       "<style scoped>\n",
       "    .dataframe tbody tr th:only-of-type {\n",
       "        vertical-align: middle;\n",
       "    }\n",
       "\n",
       "    .dataframe tbody tr th {\n",
       "        vertical-align: top;\n",
       "    }\n",
       "\n",
       "    .dataframe thead th {\n",
       "        text-align: right;\n",
       "    }\n",
       "</style>\n",
       "<table border=\"1\" class=\"dataframe\">\n",
       "  <thead>\n",
       "    <tr style=\"text-align: right;\">\n",
       "      <th></th>\n",
       "      <th>frame</th>\n",
       "      <th>center_x</th>\n",
       "      <th>center_y</th>\n",
       "      <th>radius</th>\n",
       "      <th>eye_size</th>\n",
       "      <th>img_mean</th>\n",
       "      <th>img_std</th>\n",
       "      <th>img_median</th>\n",
       "    </tr>\n",
       "  </thead>\n",
       "  <tbody>\n",
       "    <tr>\n",
       "      <th>0</th>\n",
       "      <td>0</td>\n",
       "      <td>55</td>\n",
       "      <td>106</td>\n",
       "      <td>79</td>\n",
       "      <td>0</td>\n",
       "      <td>128.245205</td>\n",
       "      <td>72.243495</td>\n",
       "      <td>128.0</td>\n",
       "    </tr>\n",
       "    <tr>\n",
       "      <th>1</th>\n",
       "      <td>1</td>\n",
       "      <td>59</td>\n",
       "      <td>191</td>\n",
       "      <td>99</td>\n",
       "      <td>0</td>\n",
       "      <td>128.118197</td>\n",
       "      <td>72.339043</td>\n",
       "      <td>129.0</td>\n",
       "    </tr>\n",
       "    <tr>\n",
       "      <th>2</th>\n",
       "      <td>2</td>\n",
       "      <td>75</td>\n",
       "      <td>248</td>\n",
       "      <td>59</td>\n",
       "      <td>0</td>\n",
       "      <td>127.843994</td>\n",
       "      <td>72.646452</td>\n",
       "      <td>130.0</td>\n",
       "    </tr>\n",
       "    <tr>\n",
       "      <th>3</th>\n",
       "      <td>3</td>\n",
       "      <td>92</td>\n",
       "      <td>302</td>\n",
       "      <td>61</td>\n",
       "      <td>0</td>\n",
       "      <td>128.076328</td>\n",
       "      <td>72.585549</td>\n",
       "      <td>128.0</td>\n",
       "    </tr>\n",
       "    <tr>\n",
       "      <th>4</th>\n",
       "      <td>4</td>\n",
       "      <td>87</td>\n",
       "      <td>270</td>\n",
       "      <td>80</td>\n",
       "      <td>0</td>\n",
       "      <td>128.068281</td>\n",
       "      <td>72.461339</td>\n",
       "      <td>129.0</td>\n",
       "    </tr>\n",
       "  </tbody>\n",
       "</table>\n",
       "</div>"
      ],
      "text/plain": [
       "   frame  center_x  center_y  radius  eye_size    img_mean    img_std  \\\n",
       "0      0        55       106      79         0  128.245205  72.243495   \n",
       "1      1        59       191      99         0  128.118197  72.339043   \n",
       "2      2        75       248      59         0  127.843994  72.646452   \n",
       "3      3        92       302      61         0  128.076328  72.585549   \n",
       "4      4        87       270      80         0  128.068281  72.461339   \n",
       "\n",
       "   img_median  \n",
       "0       128.0  \n",
       "1       129.0  \n",
       "2       130.0  \n",
       "3       128.0  \n",
       "4       129.0  "
      ]
     },
     "execution_count": 38,
     "metadata": {},
     "output_type": "execute_result"
    }
   ],
   "source": [
    "name_exam = 'benchmark'\n",
    "name_label_out = 'benchmark_out'\n",
    "\n",
    "path_label = '{}/pupil_deep/out/labels'.format(os.getcwd().replace('/auxiliaries',''))\n",
    "label = '{}/{}_label.csv'.format(path_label, name_exam)\n",
    "dataset = pd.read_csv(label)\n",
    "\n",
    "dataset.head()"
   ]
  },
  {
   "cell_type": "code",
   "execution_count": 31,
   "metadata": {},
   "outputs": [
    {
     "data": {
      "text/plain": [
       "'/media/marcos/Dados/Projects/PupilDeep/pupil_deep/out/labels/benchmark_out.csv'"
      ]
     },
     "execution_count": 31,
     "metadata": {},
     "output_type": "execute_result"
    }
   ],
   "source": [
    "out = '{}/{}.csv'.format(path_label, name_label_out)\n",
    "out"
   ]
  },
  {
   "cell_type": "code",
   "execution_count": 41,
   "metadata": {},
   "outputs": [],
   "source": [
    "with open(out, 'a') as fout:\n",
    "    fout.write('frame,center_x,center_y,radius,eye_size,img_mean,img_std,img_median\\n')\n",
    "    for i in range(1800):\n",
    "        fout.write('{},{},{},{},{},{},{},{}\\n'.format(str(i), dataset['center_x'][i+200],\n",
    "                                                      dataset['center_y'][i+200], dataset['radius'][i+200],\n",
    "                                                      dataset['eye_size'][i+200], dataset['img_mean'][i+200],\n",
    "                                                      dataset['img_std'][i+200], dataset['img_median'][i+200]))"
   ]
  },
  {
   "cell_type": "code",
   "execution_count": null,
   "metadata": {},
   "outputs": [],
   "source": []
  }
 ],
 "metadata": {
  "kernelspec": {
   "display_name": "Python 3",
   "language": "python",
   "name": "python3"
  },
  "language_info": {
   "codemirror_mode": {
    "name": "ipython",
    "version": 3
   },
   "file_extension": ".py",
   "mimetype": "text/x-python",
   "name": "python",
   "nbconvert_exporter": "python",
   "pygments_lexer": "ipython3",
   "version": "3.6.10"
  }
 },
 "nbformat": 4,
 "nbformat_minor": 4
}
