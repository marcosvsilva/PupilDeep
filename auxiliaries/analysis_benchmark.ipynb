{
 "cells": [
  {
   "cell_type": "code",
   "execution_count": 1,
   "metadata": {},
   "outputs": [],
   "source": [
    "import os\n",
    "import operator\n",
    "import pandas as pd\n",
    "import seaborn as sns\n",
    "from functools import reduce"
   ]
  },
  {
   "cell_type": "code",
   "execution_count": 2,
   "metadata": {},
   "outputs": [
    {
     "name": "stdout",
     "output_type": "stream",
     "text": [
      "/media/marcos/Dados/Projects/PupilDeep/analysis/analysis_benchmark.txt /media/marcos/Dados/Projects/PupilDeep/analysis/analysis_benchmark_new.txt\n"
     ]
    }
   ],
   "source": [
    "path = os.getcwd().replace('auxiliaries', 'analysis')\n",
    "\n",
    "path_benchmark_1 = '{}/analysis_benchmark.txt'.format(path)\n",
    "path_benchmark_2 = '{}/analysis_benchmark_new.txt'.format(path)\n",
    "\n",
    "print(path_benchmark_1, path_benchmark_2)"
   ]
  },
  {
   "cell_type": "code",
   "execution_count": 3,
   "metadata": {},
   "outputs": [],
   "source": [
    "def read_benchmark_analysis(path):\n",
    "    frames = []\n",
    "    fails = []\n",
    "    with open(path) as benchmark_file:\n",
    "        for line in benchmark_file.readlines():\n",
    "            line = line.rstrip('\\r\\n')\n",
    "            if ('[' in line) and (']' in line):\n",
    "                frames.append(line)\n",
    "            elif 'Falha' in line:\n",
    "                fails.append(line)\n",
    "            elif line == '':\n",
    "                continue\n",
    "            elif '***' in line:\n",
    "                break            \n",
    "    \n",
    "    if len(frames) == len(fails):\n",
    "        return frames, fails\n",
    "    else:\n",
    "        raise 'Fail! Exists more frames than fails!'"
   ]
  },
  {
   "cell_type": "code",
   "execution_count": 4,
   "metadata": {},
   "outputs": [],
   "source": [
    "def agrupe_fails(frames, fails):\n",
    "    intervals = []\n",
    "    number_fail = -1\n",
    "    for frame in frames:\n",
    "        number_fail += 1\n",
    "        while '[' in frame:\n",
    "            interval = frame[frame.index('[') : frame.index(']') + 1]\n",
    "            frame = frame[frame.index(']')+1: len(frame)]\n",
    "            intervals.append({'interval': interval, 'fail': fails[number_fail]})\n",
    "\n",
    "    new_intervals = []\n",
    "    for interval in intervals:\n",
    "        new_interval = []\n",
    "\n",
    "        str_interval = interval['interval']\n",
    "        str_interval = str_interval.replace('[', '').replace(']','')\n",
    "        if 'a' in str_interval:\n",
    "            init_range = int(str_interval[0 : str_interval.index('a')-1])\n",
    "            final_range = int(str_interval[str_interval.index('a')+2 : len(str_interval)])\n",
    "            new_interval = [n for n in range(init_range, final_range, 1)]\n",
    "        else:\n",
    "            new_interval.append(int(str_interval))\n",
    "\n",
    "        new_intervals.append({'interval': new_interval, 'fail': interval['fail']})\n",
    "\n",
    "    fails = []\n",
    "    for i in range(len(fails_1)):\n",
    "        str_fail = fails_1[i]\n",
    "        str_fail = str_fail[str_fail.index(':')+2 : len(str_fail)-1]\n",
    "        if str_fail not in fails:\n",
    "            fails.append(str_fail)\n",
    "\n",
    "    fails_intervals = []\n",
    "    for fail in fails:\n",
    "        fail_range = [x['interval'] for x in new_intervals if fail in x['fail']]\n",
    "        fail_range_unique = reduce(operator.concat, fail_range)\n",
    "        fails_intervals.append({'fail': fail,\n",
    "                                'number_fails': len(fail_range_unique),\n",
    "                                'intervals': fail_range_unique})\n",
    "\n",
    "    return fails_intervals"
   ]
  },
  {
   "cell_type": "code",
   "execution_count": 5,
   "metadata": {},
   "outputs": [],
   "source": [
    "def create_csv_out(name_csv, fails_intervals_out):\n",
    "    path_out = '{}/{}.csv'.format(path, name_csv)\n",
    "\n",
    "    with open(path_out, 'a') as file_out:\n",
    "        file_out.write('fail,frame,index_fail\\n')\n",
    "\n",
    "        for fail in fails_intervals_out:\n",
    "            number_of_file = 1\n",
    "            for frame in fail['intervals']:\n",
    "                str_out = '\"{}\",{},{}\\n'.format(fail['fail'], frame, number_of_file)\n",
    "                file_out.write(str_out)\n",
    "                number_of_file += 1"
   ]
  },
  {
   "cell_type": "code",
   "execution_count": 6,
   "metadata": {},
   "outputs": [],
   "source": [
    "def create_csv_resume(name_csv_resume, fails_intervals_out):\n",
    "    path_out = '{}/{}.csv'.format(path, name_csv_resume)\n",
    "\n",
    "    with open(path_out, 'a') as file_out:\n",
    "        file_out.write('fail,quantity\\n')\n",
    "        \n",
    "        for fail in fails_intervals_out:            \n",
    "            str_fail = fail['fail'].split(' ')    \n",
    "            str_fail = list(map(lambda x: x.title(), str_fail))\n",
    "            str_fail = ''.join(str_fail[0:2])\n",
    "            \n",
    "            str_out = '\"{}\",{}\\n'.format(str_fail, len(fail['intervals']))\n",
    "            file_out.write(str_out)"
   ]
  },
  {
   "cell_type": "code",
   "execution_count": 7,
   "metadata": {},
   "outputs": [],
   "source": [
    "def plot_boxplot(dataset, title):\n",
    "    img = sns.barplot(x='fail', y='quantity', data=dataset, palette='hls', capsize=0.05,\n",
    "                      saturation=8, errcolor='gray', errwidth=2, ci='sd')\n",
    "    img.figure.savefig('{}/{}.pdf'.format(path, title))"
   ]
  },
  {
   "cell_type": "code",
   "execution_count": 8,
   "metadata": {},
   "outputs": [
    {
     "name": "stdout",
     "output_type": "stream",
     "text": [
      "['Frame [0 a 2], [17 a 18]:', 'Frame [19 a 25]:', 'Frame [118 a 134]:'] ['* Falha: Não encontrou segmento válido para validar limite;', '* Falha: Ruídos da imagem;', '* Falha: Tempo do flash;']\n"
     ]
    }
   ],
   "source": [
    "frames_1, fails_1 = read_benchmark_analysis(path_benchmark_1)\n",
    "print(frames_1[0:3], fails_1[0:3])"
   ]
  },
  {
   "cell_type": "code",
   "execution_count": 9,
   "metadata": {},
   "outputs": [
    {
     "name": "stdout",
     "output_type": "stream",
     "text": [
      "['Frame [0 a 3], [14 a 24], [30 a 31]:', 'Frame [118 a 134]:', 'Frame [279 a 295]:'] ['* Falha: Não encontrou segmento válido para validar limite;', '* Falha: Tempo do flash;', '* Falha: Tempo do flash;']\n"
     ]
    }
   ],
   "source": [
    "frames_2, fails_2 = read_benchmark_analysis(path_benchmark_2)\n",
    "print(frames_2[0:3], fails_2[0:3])"
   ]
  },
  {
   "cell_type": "code",
   "execution_count": 10,
   "metadata": {},
   "outputs": [
    {
     "name": "stdout",
     "output_type": "stream",
     "text": [
      "{'fail': 'Não encontrou segmento válido para validar limite', 'number_fails': 234, 'intervals': [0, 1, 17, 224, 225, 226, 227, 228, 229, 230, 231, 232, 233, 234, 235, 236, 237, 238, 239, 240, 241, 242, 243, 244, 245, 246, 247, 248, 249, 250, 251, 252, 253, 254, 255, 256, 257, 258, 259, 260, 261, 262, 263, 264, 265, 436, 437, 438, 1059, 1060, 1061, 1062, 1063, 1200, 1221, 1222, 1223, 1224, 1225, 1226, 1227, 1228, 1229, 1230, 1231, 1232, 1233, 1234, 1235, 1262, 1263, 1264, 1265, 1266, 1267, 1268, 1269, 1270, 1271, 1272, 1273, 1274, 1275, 1276, 1277, 1278, 1279, 1280, 1281, 1282, 1283, 1284, 1285, 1286, 1287, 1288, 1293, 1294, 1295, 1296, 1297, 1298, 1299, 1300, 1301, 1302, 1303, 1304, 1305, 1306, 1307, 1308, 1309, 1310, 1311, 1312, 1313, 1314, 1315, 1316, 1317, 1318, 1319, 1320, 1321, 1322, 1323, 1324, 1325, 1326, 1327, 1328, 1329, 1440, 1441, 1442, 1443, 1444, 1445, 1446, 1447, 1448, 1449, 1450, 1451, 1452, 1453, 1454, 1455, 1456, 1457, 1458, 1459, 1460, 1461, 1462, 1463, 1464, 1465, 1466, 1467, 1468, 1469, 1470, 1471, 1472, 1473, 1474, 1475, 1476, 1477, 1478, 1479, 1480, 1481, 1482, 1483, 1484, 1485, 1486, 1487, 1488, 1489, 1490, 1491, 1492, 1493, 1494, 1495, 1496, 1497, 1498, 1499, 1500, 1501, 1502, 1503, 1504, 1505, 1506, 1507, 1508, 1509, 1510, 1511, 1512, 1513, 1514, 1515, 1516, 1517, 1518, 1519, 1520, 1521, 1522, 1523, 1524, 1525, 1526, 1527, 1528, 1529, 1530, 1531, 1532, 1533, 1534, 1535, 1536, 1537, 1538, 1539, 1540]}\n"
     ]
    }
   ],
   "source": [
    "dataset_benchmark_1 = agrupe_fails(frames_1, fails_1)\n",
    "print(dataset_benchmark_1[0])"
   ]
  },
  {
   "cell_type": "code",
   "execution_count": 11,
   "metadata": {},
   "outputs": [
    {
     "name": "stdout",
     "output_type": "stream",
     "text": [
      "{'fail': 'Não encontrou segmento válido para validar limite', 'number_fails': 92, 'intervals': [0, 1, 2, 14, 15, 16, 17, 18, 19, 20, 21, 22, 23, 30, 434, 435, 436, 437, 800, 801, 802, 803, 804, 805, 806, 1200, 1221, 1222, 1223, 1224, 1225, 1226, 1227, 1228, 1229, 1230, 1231, 1232, 1233, 1234, 1262, 1263, 1264, 1265, 1266, 1267, 1268, 1269, 1270, 1271, 1272, 1273, 1274, 1275, 1276, 1277, 1278, 1279, 1280, 1281, 1282, 1283, 1284, 1285, 1286, 1287, 1288, 1289, 1290, 1291, 1292, 1293, 1294, 1295, 1296, 1297, 1298, 1299, 1300, 1301, 1302, 1303, 1304, 1305, 1306, 1307, 1308, 1309, 1310, 1311, 1312, 1313]}\n"
     ]
    }
   ],
   "source": [
    "dataset_benchmark_2 = agrupe_fails(frames_2, fails_2)\n",
    "print(dataset_benchmark_2[0])"
   ]
  },
  {
   "cell_type": "code",
   "execution_count": 12,
   "metadata": {},
   "outputs": [],
   "source": [
    "name_data_benchmark_1 = 'dataset_benchmark_1'\n",
    "create_csv_out(name_data_benchmark_1, dataset_benchmark_1)\n",
    "\n",
    "name_data_resume_benchmark_1 = 'dataset_benchmark_resume_1'\n",
    "create_csv_resume(name_data_resume_benchmark_1, dataset_benchmark_1)"
   ]
  },
  {
   "cell_type": "code",
   "execution_count": 13,
   "metadata": {},
   "outputs": [],
   "source": [
    "name_data_benchmark_2 = 'dataset_benchmark_2'\n",
    "create_csv_out(name_data_benchmark_2, dataset_benchmark_2)\n",
    "\n",
    "name_data_resume_benchmark_2 = 'dataset_benchmark_resume_2'\n",
    "create_csv_resume(name_data_resume_benchmark_2, dataset_benchmark_2)"
   ]
  },
  {
   "cell_type": "code",
   "execution_count": 14,
   "metadata": {},
   "outputs": [
    {
     "data": {
      "text/html": [
       "<div>\n",
       "<style scoped>\n",
       "    .dataframe tbody tr th:only-of-type {\n",
       "        vertical-align: middle;\n",
       "    }\n",
       "\n",
       "    .dataframe tbody tr th {\n",
       "        vertical-align: top;\n",
       "    }\n",
       "\n",
       "    .dataframe thead th {\n",
       "        text-align: right;\n",
       "    }\n",
       "</style>\n",
       "<table border=\"1\" class=\"dataframe\">\n",
       "  <thead>\n",
       "    <tr style=\"text-align: right;\">\n",
       "      <th></th>\n",
       "      <th>fail</th>\n",
       "      <th>quantity</th>\n",
       "    </tr>\n",
       "  </thead>\n",
       "  <tbody>\n",
       "    <tr>\n",
       "      <th>0</th>\n",
       "      <td>NãoEncontrou</td>\n",
       "      <td>234</td>\n",
       "    </tr>\n",
       "    <tr>\n",
       "      <th>1</th>\n",
       "      <td>RuídosDa</td>\n",
       "      <td>370</td>\n",
       "    </tr>\n",
       "    <tr>\n",
       "      <th>2</th>\n",
       "      <td>TempoDo</td>\n",
       "      <td>137</td>\n",
       "    </tr>\n",
       "    <tr>\n",
       "      <th>3</th>\n",
       "      <td>Desfoque</td>\n",
       "      <td>226</td>\n",
       "    </tr>\n",
       "  </tbody>\n",
       "</table>\n",
       "</div>"
      ],
      "text/plain": [
       "           fail  quantity\n",
       "0  NãoEncontrou       234\n",
       "1      RuídosDa       370\n",
       "2       TempoDo       137\n",
       "3      Desfoque       226"
      ]
     },
     "execution_count": 14,
     "metadata": {},
     "output_type": "execute_result"
    }
   ],
   "source": [
    "path_data_1 = '{}/{}.csv'.format(path, name_data_resume_benchmark_1)\n",
    "data_benchmark_1 = pd.read_csv(path_data_1)\n",
    "data_benchmark_1.head()"
   ]
  },
  {
   "cell_type": "code",
   "execution_count": 15,
   "metadata": {},
   "outputs": [
    {
     "data": {
      "text/html": [
       "<div>\n",
       "<style scoped>\n",
       "    .dataframe tbody tr th:only-of-type {\n",
       "        vertical-align: middle;\n",
       "    }\n",
       "\n",
       "    .dataframe tbody tr th {\n",
       "        vertical-align: top;\n",
       "    }\n",
       "\n",
       "    .dataframe thead th {\n",
       "        text-align: right;\n",
       "    }\n",
       "</style>\n",
       "<table border=\"1\" class=\"dataframe\">\n",
       "  <thead>\n",
       "    <tr style=\"text-align: right;\">\n",
       "      <th></th>\n",
       "      <th>fail</th>\n",
       "      <th>quantity</th>\n",
       "    </tr>\n",
       "  </thead>\n",
       "  <tbody>\n",
       "    <tr>\n",
       "      <th>0</th>\n",
       "      <td>NãoEncontrou</td>\n",
       "      <td>92</td>\n",
       "    </tr>\n",
       "    <tr>\n",
       "      <th>1</th>\n",
       "      <td>RuídosDa</td>\n",
       "      <td>123</td>\n",
       "    </tr>\n",
       "    <tr>\n",
       "      <th>2</th>\n",
       "      <td>TempoDo</td>\n",
       "      <td>147</td>\n",
       "    </tr>\n",
       "    <tr>\n",
       "      <th>3</th>\n",
       "      <td>Desfoque</td>\n",
       "      <td>206</td>\n",
       "    </tr>\n",
       "  </tbody>\n",
       "</table>\n",
       "</div>"
      ],
      "text/plain": [
       "           fail  quantity\n",
       "0  NãoEncontrou        92\n",
       "1      RuídosDa       123\n",
       "2       TempoDo       147\n",
       "3      Desfoque       206"
      ]
     },
     "execution_count": 15,
     "metadata": {},
     "output_type": "execute_result"
    }
   ],
   "source": [
    "path_data_2 = '{}/{}.csv'.format(path, name_data_resume_benchmark_2)\n",
    "data_benchmark_2 = pd.read_csv(path_data_2)\n",
    "data_benchmark_2.head()"
   ]
  },
  {
   "cell_type": "code",
   "execution_count": 16,
   "metadata": {
    "scrolled": true
   },
   "outputs": [
    {
     "data": {
      "image/png": "[encoded data removed]",
      "text/plain": [
       "<Figure size 432x288 with 1 Axes>"
      ]
     },
     "metadata": {
      "needs_background": "light"
     },
     "output_type": "display_data"
    }
   ],
   "source": [
    "plot_boxplot(data_benchmark_1, 'resume_benchmark_1')"
   ]
  },
  {
   "cell_type": "code",
   "execution_count": 17,
   "metadata": {},
   "outputs": [
    {
     "data": {
      "image/png": "[encoded data removed]",
      "text/plain": [
       "<Figure size 432x288 with 1 Axes>"
      ]
     },
     "metadata": {
      "needs_background": "light"
     },
     "output_type": "display_data"
    }
   ],
   "source": [
    "plot_boxplot(data_benchmark_2, 'resume_benchmark_2')"
   ]
  },
  {
   "cell_type": "code",
   "execution_count": null,
   "metadata": {},
   "outputs": [],
   "source": []
  }
 ],
 "metadata": {
  "kernelspec": {
   "display_name": "Python 3",
   "language": "python",
   "name": "python3"
  },
  "language_info": {
   "codemirror_mode": {
    "name": "ipython",
    "version": 3
   },
   "file_extension": ".py",
   "mimetype": "text/x-python",
   "name": "python",
   "nbconvert_exporter": "python",
   "pygments_lexer": "ipython3",
   "version": "3.6.10"
  }
 },
 "nbformat": 4,
 "nbformat_minor": 4
}
