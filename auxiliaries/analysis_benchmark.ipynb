{
 "cells": [
  {
   "cell_type": "code",
   "execution_count": null,
   "metadata": {},
   "outputs": [],
   "source": [
    "import os\n",
    "import operator\n",
    "import pandas as pd\n",
    "import seaborn as sns\n",
    "from functools import reduce"
   ]
  },
  {
   "cell_type": "code",
   "execution_count": null,
   "metadata": {},
   "outputs": [],
   "source": [
    "# Parms\n",
    "exam_in = ''"
   ]
  },
  {
   "cell_type": "code",
   "execution_count": null,
   "metadata": {},
   "outputs": [],
   "source": [
    "path = '/media/marcos/Dados/Projects/Results/PupilDeep/Frames'"
   ]
  },
  {
   "cell_type": "code",
   "execution_count": null,
   "metadata": {},
   "outputs": [],
   "source": [
    "def make_path(path):\n",
    "    try:\n",
    "        os.mkdir(path)\n",
    "    except FileExistsError:\n",
    "        pass"
   ]
  },
  {
   "cell_type": "code",
   "execution_count": null,
   "metadata": {},
   "outputs": [],
   "source": [
    "path_in = '{}/{}'.format(path, exam_in)\n",
    "path_out = '{}/{}/{}'.format(path, exam_in, 'graphs_analysis')\n",
    "print(path_in)\n",
    "print(path_out)\n",
    "\n",
    "analysis_list = [x for x in os.listdir(path_in) if ('.txt' in x) and ('analysis' in x)]\n",
    "print(analysis_list)\n",
    "\n",
    "if len(analysis_list) > 1:\n",
    "    raise Exception('Found more one files for analysis!')\n",
    "else:\n",
    "    path_file = '{}/{}'.format(path_in, analysis_list[0])\n",
    "    print(path_file)\n",
    "\n",
    "make_path(path_out)"
   ]
  },
  {
   "cell_type": "code",
   "execution_count": null,
   "metadata": {},
   "outputs": [],
   "source": [
    "def read_benchmark_analysis(path):\n",
    "    frames = []\n",
    "    fails = []\n",
    "    with open(path) as benchmark_file:\n",
    "        for line in benchmark_file.readlines():\n",
    "            line = line.rstrip('\\r\\n')\n",
    "            if ('[' in line) and (']' in line):\n",
    "                frames.append(line)\n",
    "            elif 'Falha' in line:\n",
    "                fails.append(line)\n",
    "            elif line == '':\n",
    "                continue\n",
    "            elif '***' in line:\n",
    "                break            \n",
    "    \n",
    "    if len(frames) == len(fails):\n",
    "        return frames, fails\n",
    "    else:\n",
    "        raise 'Fail! Exists more frames than fails!'"
   ]
  },
  {
   "cell_type": "code",
   "execution_count": null,
   "metadata": {},
   "outputs": [],
   "source": [
    "def agrupe_fails(frames, fails):\n",
    "    intervals = []\n",
    "    number_fail = -1\n",
    "    for frame in frames:\n",
    "        number_fail += 1\n",
    "        while '[' in frame:\n",
    "            interval = frame[frame.index('[') : frame.index(']') + 1]\n",
    "            frame = frame[frame.index(']')+1: len(frame)]\n",
    "            intervals.append({'interval': interval, 'fail': fails[number_fail]})\n",
    "\n",
    "    new_intervals = []\n",
    "    for interval in intervals:\n",
    "        new_interval = []\n",
    "\n",
    "        str_interval = interval['interval']\n",
    "        str_interval = str_interval.replace('[', '').replace(']','')\n",
    "        if 'a' in str_interval:\n",
    "            init_range = int(str_interval[0 : str_interval.index('a')-1])\n",
    "            final_range = int(str_interval[str_interval.index('a')+2 : len(str_interval)])\n",
    "            new_interval = [n for n in range(init_range, final_range, 1)]\n",
    "        else:\n",
    "            new_interval.append(int(str_interval))\n",
    "\n",
    "        new_intervals.append({'interval': new_interval, 'fail': interval['fail']})\n",
    "\n",
    "    new_fails = []\n",
    "    for i in range(len(fails)):\n",
    "        str_fail = fails[i]\n",
    "        str_fail = str_fail[str_fail.index(':')+2 : len(str_fail)-1]\n",
    "        if str_fail not in fails:\n",
    "            new_fails.append(str_fail)\n",
    "\n",
    "    fails_intervals = []\n",
    "    for fail in fails:\n",
    "        fail_range = [x['interval'] for x in new_intervals if fail in x['fail']]\n",
    "        fail_range_unique = reduce(operator.concat, fail_range)\n",
    "        fails_intervals.append({'fail': fail,\n",
    "                                'number_fails': len(fail_range_unique),\n",
    "                                'intervals': fail_range_unique})\n",
    "\n",
    "    return fails_intervals"
   ]
  },
  {
   "cell_type": "code",
   "execution_count": null,
   "metadata": {},
   "outputs": [],
   "source": [
    "def create_csv_out(name_csv, fails_intervals_out):\n",
    "    path_writer = '{}/{}.csv'.format(path_out, name_csv)\n",
    "    print(path_writer)\n",
    "\n",
    "    with open(path_writer, 'a') as file_out:\n",
    "        file_out.write('fail,frame,index_fail\\n')\n",
    "\n",
    "        for fail in fails_intervals_out:\n",
    "            number_of_file = 1\n",
    "            for frame in fail['intervals']:\n",
    "                str_out = '\"{}\",{},{}\\n'.format(fail['fail'], frame, number_of_file)\n",
    "                file_out.write(str_out)\n",
    "                number_of_file += 1"
   ]
  },
  {
   "cell_type": "code",
   "execution_count": null,
   "metadata": {},
   "outputs": [],
   "source": [
    "def create_csv_resume(name_csv_resume, fails_intervals_out):\n",
    "    path_writer = '{}/{}.csv'.format(path_out, name_csv_resume)\n",
    "\n",
    "    with open(path_writer, 'a') as file_out:\n",
    "        file_out.write('fail,quantity\\n')\n",
    "        \n",
    "        for fail in fails_intervals_out:\n",
    "            str_fail = fail['fail'].split(' ')\n",
    "            str_fail = list(map(lambda x: x.title(), str_fail))\n",
    "            str_fail = ''.join(str_fail[2:4])\n",
    "            \n",
    "            str_out = '\"{}\",{}\\n'.format(str_fail, len(fail['intervals']))\n",
    "            file_out.write(str_out)\n",
    "    try:\n",
    "        os.mkdir(path)\n",
    "    except FileExistsError:\n",
    "        pass"
   ]
  },
  {
   "cell_type": "code",
   "execution_count": null,
   "metadata": {},
   "outputs": [],
   "source": [
    "def plot_boxplot(dataset, title):\n",
    "    img = sns.barplot(x='fail', y='quantity', data=dataset, palette='hls', capsize=0.05,\n",
    "                      saturation=8, errcolor='gray', errwidth=2, ci='sd')\n",
    "    img.figure.savefig('{}/{}.pdf'.format(path_out, title))"
   ]
  },
  {
   "cell_type": "code",
   "execution_count": null,
   "metadata": {},
   "outputs": [],
   "source": [
    "frames, fails = read_benchmark_analysis(path_file)\n",
    "print(frames[0:3], fails[0:3])"
   ]
  },
  {
   "cell_type": "code",
   "execution_count": null,
   "metadata": {},
   "outputs": [],
   "source": [
    "dataset_benchmark = agrupe_fails(frames, fails)\n",
    "print(dataset_benchmark[0])"
   ]
  },
  {
   "cell_type": "code",
   "execution_count": null,
   "metadata": {},
   "outputs": [],
   "source": [
    "name_data_benchmark = 'dataset_benchmark'\n",
    "create_csv_out(name_data_benchmark, dataset_benchmark)\n",
    "\n",
    "name_data_resume_benchmark = 'dataset_benchmark_resume'\n",
    "create_csv_resume(name_data_resume_benchmark, dataset_benchmark)"
   ]
  },
  {
   "cell_type": "code",
   "execution_count": null,
   "metadata": {},
   "outputs": [],
   "source": [
    "path_data = '{}/{}.csv'.format(path_out, name_data_resume_benchmark)\n",
    "data_benchmark = pd.read_csv(path_data)\n",
    "print(data_benchmark.head())"
   ]
  },
  {
   "cell_type": "code",
   "execution_count": null,
   "metadata": {
    "scrolled": true
   },
   "outputs": [],
   "source": [
    "plot_boxplot(data_benchmark, 'resume_benchmark')"
   ]
  },
  {
   "cell_type": "code",
   "execution_count": null,
   "metadata": {},
   "outputs": [],
   "source": []
  }
 ],
 "metadata": {
  "kernelspec": {
   "display_name": "Python 3",
   "language": "python",
   "name": "python3"
  },
  "language_info": {
   "codemirror_mode": {
    "name": "ipython",
    "version": 3
   },
   "file_extension": ".py",
   "mimetype": "text/x-python",
   "name": "python",
   "nbconvert_exporter": "python",
   "pygments_lexer": "ipython3",
   "version": "3.6.10"
  }
 },
 "nbformat": 4,
 "nbformat_minor": 4
}
