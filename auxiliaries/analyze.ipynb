{
 "cells": [
  {
   "cell_type": "code",
   "execution_count": 1,
   "metadata": {},
   "outputs": [],
   "source": [
    "import numpy as np\n",
    "import pandas as pd\n",
    "import os\n",
    "import cv2\n",
    "import time"
   ]
  },
  {
   "cell_type": "code",
   "execution_count": 2,
   "metadata": {},
   "outputs": [],
   "source": [
    "validate_exams = True\n",
    "analysis_exams = False"
   ]
  },
  {
   "cell_type": "code",
   "execution_count": 3,
   "metadata": {},
   "outputs": [
    {
     "name": "stdout",
     "output_type": "stream",
     "text": [
      "/media/marcos/Dados/Projects/PupilDeep/pupil_deep/eye_test/label/\n",
      "/media/marcos/Dados/Projects/PupilDeep/pupil_deep/eye_test/out/\n",
      "/media/marcos/Dados/Projects/PupilDeep/pupil_deep/eye_test/label/valid\n"
     ]
    }
   ],
   "source": [
    "root = os.getcwd().replace('/auxiliaries','')\n",
    "dataset_labels = '{}/pupil_deep/eye_test/label/'.format(root)\n",
    "print(dataset_labels)\n",
    "\n",
    "frames_folders =  '{}/pupil_deep/eye_test/out/'.format(root)\n",
    "print(frames_folders)\n",
    "\n",
    "dataset_valid = '{}valid'.format(dataset_labels)\n",
    "print(dataset_valid)"
   ]
  },
  {
   "cell_type": "code",
   "execution_count": 4,
   "metadata": {},
   "outputs": [],
   "source": [
    "folders_frames = []\n",
    "for file in os.listdir(frames_folders):\n",
    "    folders_frames.append(file)"
   ]
  },
  {
   "cell_type": "code",
   "execution_count": 5,
   "metadata": {},
   "outputs": [],
   "source": [
    "def add_label(exam, information):\n",
    "    with open('{}/{}_dataset.csv'.format(dataset_valid, exam), 'a', newline='') as file:\n",
    "        file.write('{}\\n'.format(information))\n",
    "        file.close()"
   ]
  },
  {
   "cell_type": "code",
   "execution_count": 6,
   "metadata": {},
   "outputs": [
    {
     "ename": "KeyboardInterrupt",
     "evalue": "",
     "output_type": "error",
     "traceback": [
      "\u001b[0;31m---------------------------------------------------------------------------\u001b[0m",
      "\u001b[0;31mKeyboardInterrupt\u001b[0m                         Traceback (most recent call last)",
      "\u001b[0;32m<ipython-input-6-d11ec2f90e1c>\u001b[0m in \u001b[0;36m<module>\u001b[0;34m\u001b[0m\n\u001b[1;32m     12\u001b[0m             \u001b[0mimage\u001b[0m \u001b[0;34m=\u001b[0m \u001b[0mcv2\u001b[0m\u001b[0;34m.\u001b[0m\u001b[0mimread\u001b[0m\u001b[0;34m(\u001b[0m\u001b[0mimg_path\u001b[0m\u001b[0;34m)\u001b[0m\u001b[0;34m\u001b[0m\u001b[0;34m\u001b[0m\u001b[0m\n\u001b[1;32m     13\u001b[0m             \u001b[0mcv2\u001b[0m\u001b[0;34m.\u001b[0m\u001b[0mimshow\u001b[0m\u001b[0;34m(\u001b[0m\u001b[0;34m'test'\u001b[0m\u001b[0;34m,\u001b[0m \u001b[0mimage\u001b[0m\u001b[0;34m)\u001b[0m\u001b[0;34m\u001b[0m\u001b[0;34m\u001b[0m\u001b[0m\n\u001b[0;32m---> 14\u001b[0;31m             \u001b[0mvalid\u001b[0m \u001b[0;34m=\u001b[0m \u001b[0;36m1\u001b[0m \u001b[0;32mif\u001b[0m \u001b[0mcv2\u001b[0m\u001b[0;34m.\u001b[0m\u001b[0mwaitKey\u001b[0m\u001b[0;34m(\u001b[0m\u001b[0;36m15000\u001b[0m\u001b[0;34m)\u001b[0m \u001b[0;34m==\u001b[0m \u001b[0;36m115\u001b[0m \u001b[0;32melse\u001b[0m \u001b[0;36m0\u001b[0m\u001b[0;34m\u001b[0m\u001b[0;34m\u001b[0m\u001b[0m\n\u001b[0m\u001b[1;32m     15\u001b[0m \u001b[0;34m\u001b[0m\u001b[0m\n\u001b[1;32m     16\u001b[0m             \u001b[0minfo\u001b[0m \u001b[0;34m=\u001b[0m \u001b[0;34m'{},{}'\u001b[0m\u001b[0;34m.\u001b[0m\u001b[0mformat\u001b[0m\u001b[0;34m(\u001b[0m\u001b[0mframe\u001b[0m\u001b[0;34m,\u001b[0m \u001b[0mvalid\u001b[0m\u001b[0;34m)\u001b[0m\u001b[0;34m\u001b[0m\u001b[0;34m\u001b[0m\u001b[0m\n",
      "\u001b[0;31mKeyboardInterrupt\u001b[0m: "
     ]
    }
   ],
   "source": [
    "if validate_exams:\n",
    "    title = 'frame,valid'\n",
    "    for folder in folders_frames:\n",
    "        add_label(folder, title)\n",
    "\n",
    "        path = '{}/{}/'.format(frames_folders, folder)\n",
    "        frames = [int(frame.replace('.png', '')) for frame in os.listdir(path) if 'binary' not in frame]\n",
    "        frames.sort()\n",
    "\n",
    "        for frame in frames:\n",
    "            img_path = '{}/{}/{}.png'.format(frames_folders, folder, frame)\n",
    "            image = cv2.imread(img_path)\n",
    "            cv2.imshow('test', image)\n",
    "            valid = 1 if cv2.waitKey(15000) == 115 else 0\n",
    "\n",
    "            info = '{},{}'.format(frame, valid)        \n",
    "            add_label(folder, info)"
   ]
  },
  {
   "cell_type": "code",
   "execution_count": null,
   "metadata": {},
   "outputs": [],
   "source": [
    "files = []\n",
    "for file in os.listdir(dataset_labels):\n",
    "  if '.csv' in file:\n",
    "    files.append(file)"
   ]
  },
  {
   "cell_type": "code",
   "execution_count": null,
   "metadata": {},
   "outputs": [],
   "source": [
    "quantity = 0\n",
    "eye_calculate = 0\n",
    "center_locate = 0"
   ]
  },
  {
   "cell_type": "code",
   "execution_count": null,
   "metadata": {},
   "outputs": [],
   "source": [
    "if analysis_exams:\n",
    "    for file in files:\n",
    "      dataset = pd.read_csv('{}/{}'.format(dataset_labels, file))\n",
    "      lst = [line for line in dataset.iterrows()]\n",
    "      eyes = [1 if item[1]['eye_size'] > 0 else 0 for item in lst]\n",
    "      center = [1 if ((int(item[1]['center_x']) > 0) and ((int(item[1]['center_y']) > 0))) else 0 for item in lst]\n",
    "\n",
    "      quantity += len(lst)\n",
    "      eye_calculate += eyes.count(1)\n",
    "      center_locate += center.count(1)"
   ]
  },
  {
   "cell_type": "code",
   "execution_count": null,
   "metadata": {},
   "outputs": [],
   "source": [
    "if analysis_exams:\n",
    "    print('Number of frames: %d ' % quantity + \"frames\")\n",
    "    print('Calculated eyes: %d, %.7f ' % (eye_calculate, eye_calculate / quantity * 100) + \"%\")\n",
    "    print('Localized centers: %d, %.7f ' % (center_locate, center_locate / quantity * 100) + \"%\" )"
   ]
  }
 ],
 "metadata": {
  "kernelspec": {
   "display_name": "Python 3",
   "language": "python",
   "name": "python3"
  },
  "language_info": {
   "codemirror_mode": {
    "name": "ipython",
    "version": 3
   },
   "file_extension": ".py",
   "mimetype": "text/x-python",
   "name": "python",
   "nbconvert_exporter": "python",
   "pygments_lexer": "ipython3",
   "version": "3.6.10"
  }
 },
 "nbformat": 4,
 "nbformat_minor": 2
}
