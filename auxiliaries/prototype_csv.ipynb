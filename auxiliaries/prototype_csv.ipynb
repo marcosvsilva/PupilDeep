{
 "cells": [
  {
   "cell_type": "code",
   "execution_count": null,
   "metadata": {},
   "outputs": [],
   "source": [
    "import os\n",
    "import cv2\n",
    "import time\n",
    "import math\n",
    "import pandas as pd\n",
    "import matplotlib.pyplot as plt\n",
    "from scipy.stats import mode"
   ]
  },
  {
   "cell_type": "code",
   "execution_count": null,
   "metadata": {},
   "outputs": [],
   "source": [
    "%matplotlib inline\n",
    "%config InlineBackend.rc={'figure.figsize': (12, 8)}"
   ]
  },
  {
   "cell_type": "code",
   "execution_count": null,
   "metadata": {},
   "outputs": [],
   "source": [
    "name = '14080314_08_2019_08_10_34.mp4'\n",
    "path = '/media/marcos/Dados/Projects/Results/PupilDeep/Frames/exams/avaliable/work'\n",
    "exam = cv2.VideoCapture('{}/{}'.format(path, name))\n",
    "\n",
    "path_original = '/media/marcos/Dados/Projects/Datasets/Exams'\n",
    "exam_original = cv2.VideoCapture('{}/{}'.format(path_original, name))\n",
    "\n",
    "fps = exam.get(cv2.CAP_PROP_FPS)\n",
    "frame_count = int(exam.get(cv2.CAP_PROP_FRAME_COUNT))\n",
    "duration = frame_count/fps\n",
    "\n",
    "print(fps, frame_count, duration)"
   ]
  },
  {
   "cell_type": "code",
   "execution_count": null,
   "metadata": {},
   "outputs": [],
   "source": [
    "frames = []\n",
    "while True:\n",
    "    _, frame = exam.read()\n",
    "    \n",
    "    if frame is None:\n",
    "        break\n",
    "        \n",
    "    frames.append(frame)\n",
    "\n",
    "print(len(frames))"
   ]
  },
  {
   "cell_type": "code",
   "execution_count": null,
   "metadata": {},
   "outputs": [],
   "source": [
    "original_frames = []\n",
    "while True:\n",
    "    _, frame = exam_original.read()\n",
    "    \n",
    "    if frame is None:\n",
    "        break\n",
    "        \n",
    "    original_frames.append(frame)\n",
    "\n",
    "print(len(original_frames))"
   ]
  },
  {
   "cell_type": "code",
   "execution_count": null,
   "metadata": {},
   "outputs": [],
   "source": [
    "path_information = '/media/marcos/Dados/Projects/Datasets/Exams/informations_exams'\n",
    "file_information = '{}/{}.log'.format(path_information, name.replace('.mp4', ''))\n",
    "print(file_information)"
   ]
  },
  {
   "cell_type": "code",
   "execution_count": null,
   "metadata": {},
   "outputs": [],
   "source": [
    "patient = ''\n",
    "param = ''\n",
    "stimulus = []\n",
    "\n",
    "with open(file_information, 'r') as information:\n",
    "    ativate = False\n",
    "    for line in information.readlines():            \n",
    "        if 'PAC' in line:\n",
    "            patient = line[line.rfind(':')+2:len(line)-1]\n",
    "        if 'PRM' in line:\n",
    "            param = line[line.rfind(':')+2:len(line)-1]\n",
    "        if 'ATV' in line:\n",
    "            stimul = line[line.rfind(':')+2:len(line)-1]\n",
    "            init_stimul = line[0:line.rfind('-')-1]\n",
    "            ativate = not ativate\n",
    "        if 'DTV' in line:\n",
    "            if ativate:                \n",
    "                ativate = not ativate\n",
    "                end_stimul = line[0:line.rfind('-')-1]\n",
    "                stimulus.append({'stimul': stimul,\n",
    "                                 'init_stimul': init_stimul,\n",
    "                                 'end_stimul': end_stimul})\n",
    "\n",
    "print(patient, param, stimulus, len(stimulus))"
   ]
  },
  {
   "cell_type": "code",
   "execution_count": null,
   "metadata": {},
   "outputs": [],
   "source": [
    "def calc_frame_stimul(time_stimul, fps_movie):\n",
    "    stimul = time_stimul\n",
    "    iMinuts = int(stimul[0:stimul.find(':')])\n",
    "    iSeconds = int(stimul[stimul.find(':')+1:stimul.rfind(':')])\n",
    "    iMilliseconds = int(stimul[stimul.rfind(':')+1:len(stimul)])\n",
    "    frame = math.ceil((iMinuts*(fps_movie*60))+(iSeconds*fps_movie)+((iMilliseconds*fps_movie)/100))\n",
    "    return frame"
   ]
  },
  {
   "cell_type": "code",
   "execution_count": null,
   "metadata": {},
   "outputs": [],
   "source": [
    "stimulus_treat = []\n",
    "for stimul in stimulus:    \n",
    "    aux = {'stimul': stimul['stimul'],\n",
    "           'init_stimul': calc_frame_stimul(stimul['init_stimul'], fps),\n",
    "           'end_stimul': calc_frame_stimul(stimul['end_stimul'], fps)}\n",
    "    stimulus_treat.append(aux)\n",
    "\n",
    "print(stimulus_treat)"
   ]
  },
  {
   "cell_type": "code",
   "execution_count": null,
   "metadata": {},
   "outputs": [],
   "source": [
    "path_dataset = '/media/marcos/Dados/Projects/Results/PupilDeep/Labels'\n",
    "file_dataset = '{}/{}_label.csv'.format(path_dataset, name.replace('.mp4', ''))\n",
    "print(file_dataset)"
   ]
  },
  {
   "cell_type": "code",
   "execution_count": null,
   "metadata": {
    "scrolled": true
   },
   "outputs": [],
   "source": [
    "dataset = pd.read_csv(file_dataset)\n",
    "print(dataset.head())"
   ]
  },
  {
   "cell_type": "code",
   "execution_count": null,
   "metadata": {},
   "outputs": [],
   "source": [
    "alter_to = 'mode'\n",
    "len_list_calc_normal = 40\n",
    "len_list_calc_focus = 15\n",
    "jump_after_stimulus = 50\n",
    "\n",
    "aux = 0\n",
    "for stimul in stimulus_treat:\n",
    "    flash_dataset = dataset.loc[stimul['init_stimul']:stimul['end_stimul']]\n",
    "    work_dataset = dataset.loc[aux:stimul['init_stimul']-1]\n",
    "\n",
    "    frames_mod = mode(work_dataset['radius'])[0][0]\n",
    "    frames_median = work_dataset['radius'].median()\n",
    "    new_radius = frames_mod if alter_to == 'mode' else frames_median\n",
    "\n",
    "    for index, item in flash_dataset.iterrows():\n",
    "        dataset['radius'][index] = new_radius\n",
    "\n",
    "    for index, item in work_dataset.iterrows():\n",
    "        len_list = len_list_calc_normal\n",
    "        if index > stimulus_treat[0]['init_stimul']:\n",
    "            if index <= aux + jump_after_stimulus:\n",
    "                len_list = len_list_calc_focus\n",
    "\n",
    "        range_dataset = work_dataset.loc[index:index+len_list]\n",
    "        frames_mod = mode(range_dataset['radius'])[0][0]\n",
    "        frames_median = range_dataset['radius'].median()\n",
    "        new_radius = frames_mod if alter_to == 'mode' else frames_median\n",
    "        dataset['radius'][index] = new_radius\n",
    "\n",
    "    aux = stimul['end_stimul']+1\n",
    "\n",
    "mode_dataset = mode(dataset['radius'])[0][0]\n",
    "std_dataset = dataset['radius'].std()\n",
    "mean_dataset = dataset['radius'].mean()\n",
    "print(mode_dataset, std_dataset, mean_dataset)"
   ]
  },
  {
   "cell_type": "code",
   "execution_count": null,
   "metadata": {},
   "outputs": [],
   "source": [
    "dataset = pd.read_csv(file_dataset)\n",
    "print(dataset.head())"
   ]
  },
  {
   "cell_type": "code",
   "execution_count": null,
   "metadata": {},
   "outputs": [],
   "source": [
    "init_range, end_range = [], []\n",
    "for stimul in stimulus_treat:\n",
    "    init_range.append(stimul['init_stimul'])\n",
    "    end_range.append(stimul['end_stimul'])\n",
    "\n",
    "print(init_range, end_range)"
   ]
  },
  {
   "cell_type": "code",
   "execution_count": null,
   "metadata": {},
   "outputs": [],
   "source": [
    "alter_to = 'mode'\n",
    "len_list_calc_normal = 40\n",
    "len_list_calc_focus = 15\n",
    "jump_after_stimulus = 50\n",
    "\n",
    "aux = 0\n",
    "for i in range(0, len(init_range)):        \n",
    "    flash_dataset = dataset.loc[init_range[i]:end_range[i]]\n",
    "    work_dataset = dataset.loc[aux:init_range[i]-1]\n",
    "\n",
    "    frames_mod = mode(work_dataset['radius'])[0][0]\n",
    "    frames_median = work_dataset['radius'].median()\n",
    "    new_radius = frames_mod if alter_to == 'mode' else frames_median\n",
    "\n",
    "    for index, item in flash_dataset.iterrows():\n",
    "        dataset['radius'][index] = new_radius\n",
    "\n",
    "    for index, item in work_dataset.iterrows():\n",
    "        len_list = len_list_calc_normal\n",
    "        if index > init_range[0]:\n",
    "            if index <= aux + jump_after_stimulus:\n",
    "                len_list = len_list_calc_focus\n",
    "\n",
    "        range_dataset = work_dataset.loc[index:index+len_list]\n",
    "        frames_mod = mode(range_dataset['radius'])[0][0]\n",
    "        frames_median = range_dataset['radius'].median()\n",
    "        new_radius = frames_mod if alter_to == 'mode' else frames_median\n",
    "        dataset['radius'][index] = new_radius\n",
    "\n",
    "    aux = end_range[i]+1\n",
    "\n",
    "mode_dataset = mode(dataset['radius'])[0][0]\n",
    "std_dataset = dataset['radius'].std()\n",
    "mean_dataset = dataset['radius'].mean()\n",
    "print(mode_dataset, std_dataset, mean_dataset)"
   ]
  },
  {
   "cell_type": "code",
   "execution_count": null,
   "metadata": {},
   "outputs": [],
   "source": [
    "plt.imshow(frames[1188])"
   ]
  },
  {
   "cell_type": "code",
   "execution_count": null,
   "metadata": {},
   "outputs": [],
   "source": [
    "plt.imshow(original_frames[1188])"
   ]
  },
  {
   "cell_type": "code",
   "execution_count": null,
   "metadata": {},
   "outputs": [],
   "source": []
  }
 ],
 "metadata": {
  "kernelspec": {
   "display_name": "Python 3",
   "language": "python",
   "name": "python3"
  },
  "language_info": {
   "codemirror_mode": {
    "name": "ipython",
    "version": 3
   },
   "file_extension": ".py",
   "mimetype": "text/x-python",
   "name": "python",
   "nbconvert_exporter": "python",
   "pygments_lexer": "ipython3",
   "version": "3.6.10"
  }
 },
 "nbformat": 4,
 "nbformat_minor": 4
}
