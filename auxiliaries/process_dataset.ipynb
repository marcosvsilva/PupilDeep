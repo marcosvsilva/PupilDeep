{
 "cells": [
  {
   "cell_type": "code",
   "execution_count": 1,
   "metadata": {},
   "outputs": [],
   "source": [
    "import os\n",
    "import pandas as pd\n",
    "import numpy as np\n",
    "from scipy.stats import mode"
   ]
  },
  {
   "cell_type": "code",
   "execution_count": 2,
   "metadata": {},
   "outputs": [],
   "source": [
    "# Params\n",
    "\n",
    "exam_in = 'benchmark_radius_100_validate_20_analysis'\n",
    "\n",
    "range_search_mean = 50\n",
    "thresould_quantile = 1.5"
   ]
  },
  {
   "cell_type": "code",
   "execution_count": 3,
   "metadata": {},
   "outputs": [],
   "source": [
    "path = '/media/marcos/Dados/Projects/Results/PupilDeep'"
   ]
  },
  {
   "cell_type": "code",
   "execution_count": 4,
   "metadata": {},
   "outputs": [
    {
     "name": "stdout",
     "output_type": "stream",
     "text": [
      "['benchmark_label.csv']\n"
     ]
    }
   ],
   "source": [
    "path_dataset = '{}/{}'.format(path, exam_in)\n",
    "dataset_list = [x for x in os.listdir(path_dataset) if '_label.csv' in x]\n",
    "print(dataset_list)"
   ]
  },
  {
   "cell_type": "code",
   "execution_count": 5,
   "metadata": {},
   "outputs": [],
   "source": [
    "def make_path(path):\n",
    "    try:\n",
    "        os.mkdir(path)\n",
    "    except FileExistsError:\n",
    "        pass"
   ]
  },
  {
   "cell_type": "code",
   "execution_count": 6,
   "metadata": {},
   "outputs": [],
   "source": [
    "def remove_file(file):\n",
    "    try:\n",
    "        os.remove(file)\n",
    "    except FileNotFoundError:\n",
    "        pass"
   ]
  },
  {
   "cell_type": "code",
   "execution_count": 7,
   "metadata": {},
   "outputs": [],
   "source": [
    "def outlier_treatment(dataset):\n",
    "    Q1 = dataset['radius'].quantile(0.25)\n",
    "    Q3 = dataset['radius'].quantile(0.75)\n",
    "    IQR = Q3 - Q1    \n",
    "    \n",
    "    tq = thresould_quantile\n",
    "    filter_q = (dataset['radius'] >= Q1 - tq * IQR) & (dataset['radius'] <= Q3 + tq * IQR)\n",
    "    filter_q = [frame for frame, avaliable in filter_q.iteritems() if not avaliable]\n",
    "    \n",
    "    for frame in  filter_q:\n",
    "        list_radius = np.array([])\n",
    "        list_radius = dataset.loc[frame: frame+range_search_mean].radius\n",
    "        dataset['radius'][frame] = int(np.median(list_radius))\n",
    "    \n",
    "    return dataset"
   ]
  },
  {
   "cell_type": "code",
   "execution_count": 8,
   "metadata": {},
   "outputs": [],
   "source": [
    "def save_log(path_log, log):\n",
    "    with open(path_log, 'a') as file_out:\n",
    "        file_out.write('{}\\n'.format(log))    "
   ]
  },
  {
   "cell_type": "code",
   "execution_count": 9,
   "metadata": {},
   "outputs": [],
   "source": [
    "def plot_graph(dataset, path_out, title):\n",
    "    img = dataset.plot.line(x='frame', y='radius', linestyle='-', markevery=100, marker='o', title=title)\n",
    "    img.figure.savefig('{}/{}.pdf'.format(path_out, title))"
   ]
  },
  {
   "cell_type": "code",
   "execution_count": 10,
   "metadata": {},
   "outputs": [
    {
     "name": "stdout",
     "output_type": "stream",
     "text": [
      "/media/marcos/Dados/Projects/Results/PupilDeep/benchmark_radius_100_validate_20_analysis/graphs_process/benchmark_log.txt\n"
     ]
    },
    {
     "name": "stderr",
     "output_type": "stream",
     "text": [
      "/home/marcos/.local/lib/python3.6/site-packages/ipykernel_launcher.py:13: SettingWithCopyWarning: \n",
      "A value is trying to be set on a copy of a slice from a DataFrame\n",
      "\n",
      "See the caveats in the documentation: http://pandas.pydata.org/pandas-docs/stable/user_guide/indexing.html#returning-a-view-versus-a-copy\n",
      "  del sys.path[0]\n",
      "/home/marcos/.local/lib/python3.6/site-packages/ipykernel_launcher.py:28: SettingWithCopyWarning: \n",
      "A value is trying to be set on a copy of a slice from a DataFrame\n",
      "\n",
      "See the caveats in the documentation: http://pandas.pydata.org/pandas-docs/stable/user_guide/indexing.html#returning-a-view-versus-a-copy\n"
     ]
    },
    {
     "data": {
      "image/png": "[encoded data removed]",
      "text/plain": [
       "<Figure size 432x288 with 1 Axes>"
      ]
     },
     "metadata": {
      "needs_background": "light"
     },
     "output_type": "display_data"
    }
   ],
   "source": [
    "for file in dataset_list:\n",
    "    file_in = '{}/{}'.format(path_dataset, file)\n",
    "    dataset = pd.read_csv(file_in)\n",
    "    #print(dataset.head())    \n",
    "    \n",
    "    path_out = '{}/graphs_process'.format(path_dataset)\n",
    "    file_out = file.replace('_label.csv','')\n",
    "    \n",
    "    path_log = '{}/{}_log.txt'.format(path_out, file_out)\n",
    "    \n",
    "    print(path_log)\n",
    "    make_path(path_out)\n",
    "    remove_file(path_log)\n",
    "    \n",
    "    dataset = outlier_treatment(dataset)\n",
    "       \n",
    "    for index, item in dataset.iterrows():\n",
    "        pupil_size = dataset.loc[index:index+range_search_mean].radius\n",
    "        \n",
    "        if len(pupil_size) <= 1:\n",
    "            continue\n",
    "            \n",
    "        median, std, mod = np.median(pupil_size), pupil_size.std(), mode(pupil_size)[0][0]\n",
    "              \n",
    "        if int(item.radius) not in range(int(median-std), int(median+std)):            \n",
    "            log = 'Update frame {}, radius {} for new radius {}.'.format(index, item.radius, mod)\n",
    "            save_log(path_log, log)\n",
    "            dataset['radius'][index] = mod\n",
    "            \n",
    "    plot_graph(dataset, path_out, file_out)"
   ]
  },
  {
   "cell_type": "code",
   "execution_count": null,
   "metadata": {},
   "outputs": [],
   "source": []
  },
  {
   "cell_type": "code",
   "execution_count": null,
   "metadata": {},
   "outputs": [],
   "source": []
  }
 ],
 "metadata": {
  "kernelspec": {
   "display_name": "Python 3",
   "language": "python",
   "name": "python3"
  },
  "language_info": {
   "codemirror_mode": {
    "name": "ipython",
    "version": 3
   },
   "file_extension": ".py",
   "mimetype": "text/x-python",
   "name": "python",
   "nbconvert_exporter": "python",
   "pygments_lexer": "ipython3",
   "version": "3.6.10"
  }
 },
 "nbformat": 4,
 "nbformat_minor": 4
}
