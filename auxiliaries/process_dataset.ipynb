{
 "cells": [
  {
   "cell_type": "code",
   "execution_count": 1,
   "metadata": {},
   "outputs": [],
   "source": [
    "import os\n",
    "import pandas as pd\n",
    "import numpy as np\n",
    "from scipy.stats import mode"
   ]
  },
  {
   "cell_type": "code",
   "execution_count": 2,
   "metadata": {},
   "outputs": [],
   "source": [
    "# Params\n",
    "\n",
    "exam_in = 'benchmark_radius_80_validate_20_flash'\n",
    "\n",
    "len_list_calc_normal = 40\n",
    "len_list_calc_focus = 15\n",
    "\n",
    "thresould_quantile = 1.5\n",
    "jump_after_stimulus = 50\n",
    "\n",
    "outlier_loop = 1\n",
    "alter_to = 'median' # ['mode', 'median']"
   ]
  },
  {
   "cell_type": "code",
   "execution_count": 3,
   "metadata": {},
   "outputs": [],
   "source": [
    "path = '/media/marcos/Dados/Projects/Results/PupilDeep'"
   ]
  },
  {
   "cell_type": "code",
   "execution_count": 4,
   "metadata": {},
   "outputs": [
    {
     "name": "stdout",
     "output_type": "stream",
     "text": [
      "['benchmark_label.csv']\n"
     ]
    }
   ],
   "source": [
    "path_dataset = '{}/{}'.format(path, exam_in)\n",
    "dataset_list = [x for x in os.listdir(path_dataset) if '_label.csv' in x]\n",
    "print(dataset_list)"
   ]
  },
  {
   "cell_type": "code",
   "execution_count": 5,
   "metadata": {},
   "outputs": [],
   "source": [
    "def make_path(path):\n",
    "    try:\n",
    "        os.mkdir(path)\n",
    "    except FileExistsError:\n",
    "        pass"
   ]
  },
  {
   "cell_type": "code",
   "execution_count": 6,
   "metadata": {},
   "outputs": [],
   "source": [
    "def remove_file(file):\n",
    "    try:\n",
    "        os.remove(file)\n",
    "    except FileNotFoundError:\n",
    "        pass"
   ]
  },
  {
   "cell_type": "code",
   "execution_count": 13,
   "metadata": {},
   "outputs": [],
   "source": [
    "def outlier_treatment_loop(dataset):\n",
    "    Q1 = dataset['radius'].quantile(0.25)\n",
    "    Q3 = dataset['radius'].quantile(0.75)\n",
    "    IQR = Q3 - Q1    \n",
    "    \n",
    "    tq = thresould_quantile\n",
    "    filter_q = (dataset['radius'] >= Q1 - tq * IQR) & (dataset['radius'] <= Q3 + tq * IQR)\n",
    "    filter_q = [frame for frame, avaliable in filter_q.iteritems() if not avaliable]\n",
    "    \n",
    "    for frame in  filter_q:\n",
    "        list_radius = np.array([])\n",
    "        list_radius = dataset.loc[frame:frame+len_list_calc_normal].radius\n",
    "        dataset['radius'][frame] = int(np.median(list_radius))\n",
    "    \n",
    "    return dataset"
   ]
  },
  {
   "cell_type": "code",
   "execution_count": 14,
   "metadata": {},
   "outputs": [],
   "source": [
    "def outlier_treatment(dataset):\n",
    "    for i in range(outlier_loop):\n",
    "        log = 'loop outlier treatment: {}'.format(i)\n",
    "        save_log(path_log, log)\n",
    "        dataset = outlier_treatment_loop(dataset)\n",
    "    \n",
    "    return dataset"
   ]
  },
  {
   "cell_type": "code",
   "execution_count": 15,
   "metadata": {},
   "outputs": [],
   "source": [
    "def get_range_flash(dataset):\n",
    "    filter_flash = dataset['flash'] > 0\n",
    "    frames_flash = [frame for frame, avaliable in filter_flash.iteritems() if avaliable]    \n",
    "    \n",
    "    init_range = [frames_flash[0]]\n",
    "    end_range = []\n",
    "    \n",
    "    for i in range(0, len(frames_flash)-1):\n",
    "        if frames_flash[i]+1 != frames_flash[i+1]:\n",
    "            end_range.append(frames_flash[i])\n",
    "            init_range.append(frames_flash[i+1])\n",
    "            \n",
    "    end_range.append(frames_flash[len(frames_flash)-1])\n",
    "    \n",
    "    return init_range, end_range"
   ]
  },
  {
   "cell_type": "code",
   "execution_count": 16,
   "metadata": {},
   "outputs": [],
   "source": [
    "def save_log(path_log, log):\n",
    "    with open(path_log, 'a') as file_out:\n",
    "        file_out.write('{}\\n'.format(log))    "
   ]
  },
  {
   "cell_type": "code",
   "execution_count": 20,
   "metadata": {},
   "outputs": [],
   "source": [
    "def plot_graph(dataset, path_out, title):\n",
    "    title_graph = '{}\\lsrn: {}, lsrf: {}, tq: {}, ol: {}, at: {}, '.format(\n",
    "        title, len_list_calc_normal, len_list_calc_focus, thresould_quantile, outlier_loop, alter_to)\n",
    "    \n",
    "    img = dataset.plot.line(x='frame', y='radius', linestyle='-', markevery=100, marker='o', title=title_graph)\n",
    "    img.figure.savefig('{}/{}.pdf'.format(path_out, title))"
   ]
  },
  {
   "cell_type": "code",
   "execution_count": 24,
   "metadata": {},
   "outputs": [
    {
     "name": "stderr",
     "output_type": "stream",
     "text": [
      "/home/marcos/anaconda3/lib/python3.7/site-packages/ipykernel_launcher.py:13: SettingWithCopyWarning: \n",
      "A value is trying to be set on a copy of a slice from a DataFrame\n",
      "\n",
      "See the caveats in the documentation: http://pandas.pydata.org/pandas-docs/stable/user_guide/indexing.html#returning-a-view-versus-a-copy\n",
      "  del sys.path[0]\n",
      "/home/marcos/anaconda3/lib/python3.7/site-packages/ipykernel_launcher.py:24: SettingWithCopyWarning: \n",
      "A value is trying to be set on a copy of a slice from a DataFrame\n",
      "\n",
      "See the caveats in the documentation: http://pandas.pydata.org/pandas-docs/stable/user_guide/indexing.html#returning-a-view-versus-a-copy\n",
      "/home/marcos/anaconda3/lib/python3.7/site-packages/ipykernel_launcher.py:36: SettingWithCopyWarning: \n",
      "A value is trying to be set on a copy of a slice from a DataFrame\n",
      "\n",
      "See the caveats in the documentation: http://pandas.pydata.org/pandas-docs/stable/user_guide/indexing.html#returning-a-view-versus-a-copy\n"
     ]
    },
    {
     "data": {
      "image/png": "[encoded data removed]",
      "text/plain": [
       "<Figure size 432x288 with 1 Axes>"
      ]
     },
     "metadata": {
      "needs_background": "light"
     },
     "output_type": "display_data"
    }
   ],
   "source": [
    "for file in dataset_list:\n",
    "    file_in = '{}/{}'.format(path_dataset, file)\n",
    "    path_out, file_out = '{}/graphs_process'.format(path_dataset), file.replace('_label.csv','')\n",
    "    path_log = '{}/{}_log.txt'.format(path_out, file_out)\n",
    "\n",
    "    make_path(path_out)\n",
    "    remove_file(path_log)\n",
    "    \n",
    "    dataset = pd.read_csv(file_in)    \n",
    "    dataset = outlier_treatment(dataset)\n",
    "    \n",
    "    init_range, end_range = get_range_flash(dataset)\n",
    "    \n",
    "    aux = 0\n",
    "    for i in range(0, len(init_range)):        \n",
    "        flash_dataset = dataset.loc[init_range[i]:end_range[i]]\n",
    "        work_dataset = dataset.loc[aux:init_range[i]-1]\n",
    "        \n",
    "        frames_mod = mode(work_dataset['radius'])[0][0]\n",
    "        frames_median = work_dataset['radius'].median()\n",
    "        new_radius = frames_mod if alter_to == 'mode' else frames_median\n",
    "        \n",
    "        for index, item in flash_dataset.iterrows():\n",
    "            dataset['radius'][index] = new_radius\n",
    "                \n",
    "        for index, item in work_dataset.iterrows():\n",
    "            len_list = len_list_calc_normal\n",
    "            if index > init_range[0]:\n",
    "                if index <= aux + jump_after_stimulus:\n",
    "                    len_list = len_list_calc_focus\n",
    "                    \n",
    "            range_dataset = work_dataset.loc[index:index+len_list]\n",
    "            frames_mod = mode(range_dataset['radius'])[0][0]\n",
    "            frames_median = range_dataset['radius'].median()\n",
    "            new_radius = frames_mod if alter_to == 'mode' else frames_median\n",
    "            dataset['radius'][index] = new_radius\n",
    "        \n",
    "        aux = end_range[i]+1\n",
    "    \n",
    "#     ldataset = dataset['frame'] < 200\n",
    "#     dataset = dataset[ldataset]\n",
    "    plot_graph(dataset, path_out, file_out)"
   ]
  },
  {
   "cell_type": "code",
   "execution_count": null,
   "metadata": {},
   "outputs": [],
   "source": []
  },
  {
   "cell_type": "code",
   "execution_count": null,
   "metadata": {},
   "outputs": [],
   "source": []
  }
 ],
 "metadata": {
  "kernelspec": {
   "display_name": "Python 3",
   "language": "python",
   "name": "python3"
  },
  "language_info": {
   "codemirror_mode": {
    "name": "ipython",
    "version": 3
   },
   "file_extension": ".py",
   "mimetype": "text/x-python",
   "name": "python",
   "nbconvert_exporter": "python",
   "pygments_lexer": "ipython3",
   "version": "3.7.4"
  }
 },
 "nbformat": 4,
 "nbformat_minor": 4
}
