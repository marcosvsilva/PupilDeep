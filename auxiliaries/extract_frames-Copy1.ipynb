{
 "cells": [
  {
   "cell_type": "code",
   "execution_count": null,
   "metadata": {},
   "outputs": [],
   "source": [
    "import cv2\n",
    "import os"
   ]
  },
  {
   "cell_type": "code",
   "execution_count": null,
   "metadata": {},
   "outputs": [],
   "source": [
    "# Params\n",
    "\n",
    "name_of_exam = ''\n",
    "name_out_exam = 'extract'\n",
    "\n",
    "path_exams = '/media/marcos/Dados/Projects/Results/PupilDeep/ComparativoVideos3/'\n",
    "path_out = '/media/marcos/Dados/Projects/Results/PupilDeep/ComparativoVideos3/'"
   ]
  },
  {
   "cell_type": "code",
   "execution_count": null,
   "metadata": {},
   "outputs": [],
   "source": [
    "files = []\n",
    "if name_of_exam == '':\n",
    "    files = [x for x in os.listdir(path_exams) if '.mp4' in x]\n",
    "else:\n",
    "    file_out = '{}/{}.mp4'.format(path_exams, file_out)\n",
    "    files.append(file_out)    \n",
    "    \n",
    "print(files)\n",
    "print(len(files))"
   ]
  },
  {
   "cell_type": "code",
   "execution_count": null,
   "metadata": {},
   "outputs": [],
   "source": [
    "def extract_frames(movie, in_path):\n",
    "    number_frame = 0\n",
    "    while True:\n",
    "        _, frame = movie.read()\n",
    "        \n",
    "        if frame is None:\n",
    "            print('break stop frame: {}'.format(number_frame))\n",
    "            break\n",
    "        \n",
    "        path_save = '{}/{}.png'.format(in_path, number_frame)\n",
    "        cv2.imwrite(path_save, frame)\n",
    "        number_frame += 1"
   ]
  },
  {
   "cell_type": "code",
   "execution_count": null,
   "metadata": {},
   "outputs": [],
   "source": [
    "def make_path(path):\n",
    "    try:\n",
    "        os.mkdir(path)\n",
    "    except FileExistsError:\n",
    "        pass"
   ]
  },
  {
   "cell_type": "code",
   "execution_count": null,
   "metadata": {},
   "outputs": [],
   "source": [
    "for file in files:\n",
    "    path_out_intern = '{}/{}_{}'.format(path_out, name_out_exam, file.replace('.mp4', ''))\n",
    "    make_path(path_out_intern)\n",
    "    \n",
    "    path_in_intern = '{}/{}'.format(path_exams, file)    \n",
    "    exam = cv2.VideoCapture(path_in_intern)\n",
    "    extract_frames(exam, path_out_intern)"
   ]
  },
  {
   "cell_type": "code",
   "execution_count": null,
   "metadata": {},
   "outputs": [],
   "source": []
  }
 ],
 "metadata": {
  "kernelspec": {
   "display_name": "Python 3",
   "language": "python",
   "name": "python3"
  },
  "language_info": {
   "codemirror_mode": {
    "name": "ipython",
    "version": 3
   },
   "file_extension": ".py",
   "mimetype": "text/x-python",
   "name": "python",
   "nbconvert_exporter": "python",
   "pygments_lexer": "ipython3",
   "version": "3.6.10"
  }
 },
 "nbformat": 4,
 "nbformat_minor": 2
}
