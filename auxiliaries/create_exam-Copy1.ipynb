{
 "cells": [
  {
   "cell_type": "code",
   "execution_count": 10,
   "metadata": {},
   "outputs": [],
   "source": [
    "import numpy as np\n",
    "import pandas as pd\n",
    "import os\n",
    "import cv2\n",
    "import matplotlib.pyplot as plt"
   ]
  },
  {
   "cell_type": "code",
   "execution_count": 2,
   "metadata": {},
   "outputs": [],
   "source": [
    "# params\n",
    "exam = '110711_07_2019_08_03_05'\n",
    "folder_exams = 'Frames'\n",
    "folder_labels = 'Labels'\n",
    "\n",
    "full_exam = False"
   ]
  },
  {
   "cell_type": "code",
   "execution_count": 3,
   "metadata": {},
   "outputs": [
    {
     "name": "stdout",
     "output_type": "stream",
     "text": [
      "/media/marcos/Dados/Projects/Datasets/Exams /media/marcos/Dados/Projects/Results/PupilDeep/Frames /media/marcos/Dados/Projects/Results/PupilDeep/Labels /media/marcos/Dados/Projects/Results/PupilDeep/Frames/exams\n"
     ]
    }
   ],
   "source": [
    "path_original_exams = '/media/marcos/Dados/Projects/Datasets/Exams'\n",
    "path_exams = '/media/marcos/Dados/Projects/Results/PupilDeep/{}'.format(folder_exams)\n",
    "path_labels = '/media/marcos/Dados/Projects/Results/PupilDeep/{}'.format(folder_labels)\n",
    "path_out = '{}/exams'.format(path_exams)\n",
    "\n",
    "print(path_original_exams, path_exams, path_labels, path_out)"
   ]
  },
  {
   "cell_type": "code",
   "execution_count": 4,
   "metadata": {},
   "outputs": [
    {
     "name": "stdout",
     "output_type": "stream",
     "text": [
      "['/media/marcos/Dados/Projects/Results/PupilDeep/Frames/110711_07_2019_08_03_05']\n",
      "1\n"
     ]
    }
   ],
   "source": [
    "paths_frames = []\n",
    "if exam == '':\n",
    "    if os.path.exists(path_out):\n",
    "        frames_exists = list(map(lambda x: x.replace('.mp4', ''), os.listdir(path_out)))\n",
    "        frames_total = ['{}'.format(x) for x in os.listdir(path_exams) if ('.' not in x) and ('exams' not in x)]\n",
    "        paths_frames = ['{}/{}'.format(path_exams, x) for x in frames_total if x not in frames_exists]\n",
    "    else:\n",
    "        paths_frames = ['{}/{}'.format(path_exams, x) for x in os.listdir(path_exams) if '.' not in x]\n",
    "else:\n",
    "    paths_frames.append('{}/{}'.format(path_exams, exam))\n",
    "\n",
    "print(paths_frames[0:5])\n",
    "print(len(paths_frames))"
   ]
  },
  {
   "cell_type": "code",
   "execution_count": 4,
   "metadata": {},
   "outputs": [],
   "source": [
    "def create_exam(list_frames, path_writer, size_writer, fps):\n",
    "    out = cv2.VideoWriter(path_writer, cv2.VideoWriter_fourcc(*'DIVX'), fps, size_writer)\n",
    "\n",
    "    for i in range(len(list_frames)):\n",
    "        out.write(img_array[i])\n",
    "    \n",
    "    out.release()"
   ]
  },
  {
   "cell_type": "code",
   "execution_count": 6,
   "metadata": {},
   "outputs": [],
   "source": [
    "def make_path(path):\n",
    "    try:\n",
    "        os.mkdir(path)\n",
    "    except FileExistsError:\n",
    "        pass"
   ]
  },
  {
   "cell_type": "code",
   "execution_count": 16,
   "metadata": {},
   "outputs": [],
   "source": [
    "path_exam_ultimo = '/media/marcos/Dados/Projects/Results/PupilDeep/Frames/tmp/110711_07_2019_08_03_05_ultimo'\n",
    "path_exam_primeiro = '/media/marcos/Dados/Projects/Results/PupilDeep/Frames/tmp/110711_07_2019_08_03_05_primeiro'\n",
    "\n",
    "path_writer = '/media/marcos/Dados/Projects/Results/PupilDeep/Frames/tmp/comparativo.mp4'\n",
    "\n",
    "paht_video = '/media/marcos/Dados/Projects/Results/PupilDeep/Frames/tmp/110711_07_2019_08_03_05.mp4'\n",
    "original_exam = cv2.VideoCapture(paht_video)\n",
    "fps = original_exam.get(cv2.CAP_PROP_FPS)\n",
    "\n",
    "size = None\n",
    "img_array = []\n",
    "\n",
    "number_files = len(os.listdir(path_exam_ultimo))\n",
    "for i in range(number_files):       \n",
    "    im_ultimo = cv2.imread('{}/{}.png'.format(path_exam_ultimo, i))\n",
    "    im_primeiro = cv2.imread('{}/{}.png'.format(path_exam_primeiro, i))\n",
    "\n",
    "    im_pres = cv2.vconcat([im_ultimo, im_primeiro])\n",
    "\n",
    "    img_array.append(im_pres)\n",
    "\n",
    "    if size is None:\n",
    "        height, width, _ = im_pres.shape\n",
    "        size = (width, height)\n",
    "\n",
    "create_exam(img_array, path_writer, size, fps)"
   ]
  },
  {
   "cell_type": "code",
   "execution_count": null,
   "metadata": {},
   "outputs": [],
   "source": []
  }
 ],
 "metadata": {
  "kernelspec": {
   "display_name": "Python 3",
   "language": "python",
   "name": "python3"
  },
  "language_info": {
   "codemirror_mode": {
    "name": "ipython",
    "version": 3
   },
   "file_extension": ".py",
   "mimetype": "text/x-python",
   "name": "python",
   "nbconvert_exporter": "python",
   "pygments_lexer": "ipython3",
   "version": "3.7.4"
  }
 },
 "nbformat": 4,
 "nbformat_minor": 2
}
