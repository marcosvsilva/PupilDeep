{
 "cells": [
  {
   "cell_type": "code",
   "execution_count": 1,
   "metadata": {},
   "outputs": [],
   "source": [
    "import cv2\n",
    "import os"
   ]
  },
  {
   "cell_type": "code",
   "execution_count": 2,
   "metadata": {},
   "outputs": [],
   "source": [
    "# Params (path out set yet)\n",
    "path_in = '/media/marcos/Dados/Projects/Results/PupilDeep/analysis_benchmark_1/benchmark.mp4'\n",
    "path_out = '/media/marcos/Dados/Projects/Results/PupilDeep/analysis_benchmark_1/extract'"
   ]
  },
  {
   "cell_type": "code",
   "execution_count": 3,
   "metadata": {},
   "outputs": [
    {
     "name": "stdout",
     "output_type": "stream",
     "text": [
      "/media/marcos/Dados/Projects/Results/PupilDeep/analysis_benchmark_1/benchmark.mp4\n",
      "/media/marcos/Dados/Projects/Results/PupilDeep/analysis_benchmark_1/extract\n"
     ]
    }
   ],
   "source": [
    "print(path_in)\n",
    "print(path_out)"
   ]
  },
  {
   "cell_type": "code",
   "execution_count": 4,
   "metadata": {},
   "outputs": [],
   "source": [
    "def extract_frames(movie, in_path):\n",
    "    number_frame = 0\n",
    "    while True:\n",
    "        _, frame = movie.read()\n",
    "        \n",
    "        if frame is None:\n",
    "            print('break stop frame: {}'.format(number_frame))\n",
    "            break\n",
    "        \n",
    "        path_save = '{}/{}.png'.format(in_path, number_frame)\n",
    "        cv2.imwrite(path_save, frame)\n",
    "        number_frame += 1"
   ]
  },
  {
   "cell_type": "code",
   "execution_count": 5,
   "metadata": {},
   "outputs": [
    {
     "name": "stdout",
     "output_type": "stream",
     "text": [
      "break stop frame: 1800\n"
     ]
    }
   ],
   "source": [
    "exam = cv2.VideoCapture(path_in)\n",
    "extract_frames(exam, path_out)"
   ]
  },
  {
   "cell_type": "code",
   "execution_count": null,
   "metadata": {},
   "outputs": [],
   "source": []
  }
 ],
 "metadata": {
  "kernelspec": {
   "display_name": "Python 3",
   "language": "python",
   "name": "python3"
  },
  "language_info": {
   "codemirror_mode": {
    "name": "ipython",
    "version": 3
   },
   "file_extension": ".py",
   "mimetype": "text/x-python",
   "name": "python",
   "nbconvert_exporter": "python",
   "pygments_lexer": "ipython3",
   "version": "3.6.10"
  }
 },
 "nbformat": 4,
 "nbformat_minor": 2
}
