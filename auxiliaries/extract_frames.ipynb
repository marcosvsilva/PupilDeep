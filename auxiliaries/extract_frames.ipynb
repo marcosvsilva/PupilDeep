{
 "cells": [
  {
   "cell_type": "code",
   "execution_count": 6,
   "metadata": {},
   "outputs": [],
   "source": [
    "import cv2\n",
    "import os"
   ]
  },
  {
   "cell_type": "code",
   "execution_count": 7,
   "metadata": {},
   "outputs": [],
   "source": [
    "# Params\n",
    "name_of_video = '25080225_08_2019_08_37_59'"
   ]
  },
  {
   "cell_type": "code",
   "execution_count": 8,
   "metadata": {},
   "outputs": [
    {
     "name": "stdout",
     "output_type": "stream",
     "text": [
      "/media/marcos/Dados/Projects/PupilDeep/pupil_deep/eye_test/out\n",
      "/media/marcos/Dados/Projects/PupilDeep/pupil_deep/eye_test/out/25080225_08_2019_08_37_59.mp4\n",
      "/media/marcos/Dados/Projects/PupilDeep/pupil_deep/eye_test/out/extract_frames\n"
     ]
    }
   ],
   "source": [
    "path = os.getcwd().replace('/auxiliaries', '/pupil_deep/eye_test/out')\n",
    "path_video = '{}/{}.mp4'.format(path, name_of_video)\n",
    "path_out = '{}/extract_frames'.format(path)\n",
    "\n",
    "print(path)\n",
    "print(path_video)\n",
    "print(path_out)"
   ]
  },
  {
   "cell_type": "code",
   "execution_count": 9,
   "metadata": {},
   "outputs": [],
   "source": [
    "def extract_frames(movie, in_path):\n",
    "    number_frame = 1\n",
    "    while True:\n",
    "        _, frame = movie.read()\n",
    "        \n",
    "        if frame is None:\n",
    "            print('break stop frame: {}'.format(number_frame))\n",
    "            break\n",
    "        \n",
    "        path_save = '{}/{}.png'.format(in_path, number_frame)\n",
    "        cv2.imwrite(path_save, frame)\n",
    "        number_frame += 1"
   ]
  },
  {
   "cell_type": "code",
   "execution_count": 10,
   "metadata": {},
   "outputs": [
    {
     "name": "stdout",
     "output_type": "stream",
     "text": [
      "break stop frame: 300\n"
     ]
    }
   ],
   "source": [
    "dataset = cv2.VideoCapture(path_video)\n",
    "extract_frames(dataset, path_out)"
   ]
  },
  {
   "cell_type": "code",
   "execution_count": null,
   "metadata": {},
   "outputs": [],
   "source": []
  }
 ],
 "metadata": {
  "kernelspec": {
   "display_name": "Python 3",
   "language": "python",
   "name": "python3"
  },
  "language_info": {
   "codemirror_mode": {
    "name": "ipython",
    "version": 3
   },
   "file_extension": ".py",
   "mimetype": "text/x-python",
   "name": "python",
   "nbconvert_exporter": "python",
   "pygments_lexer": "ipython3",
   "version": "3.6.10"
  }
 },
 "nbformat": 4,
 "nbformat_minor": 2
}
