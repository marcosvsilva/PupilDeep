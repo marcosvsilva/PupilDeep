{
 "cells": [
  {
   "cell_type": "code",
   "execution_count": null,
   "metadata": {},
   "outputs": [],
   "source": [
    "import os\n",
    "import cv2"
   ]
  },
  {
   "cell_type": "code",
   "execution_count": null,
   "metadata": {},
   "outputs": [],
   "source": [
    "# Params\n",
    "\n",
    "number_frames = 400\n",
    "movies = ['25080125_08_2019_08_32_38.mp4', '25080225_08_2019_08_37_59.mp4', '25080225_08_2019_08_40_12.mp4',\n",
    "          '25080325_08_2019_08_46_42.mp4', '25080325_08_2019_08_48_58.mp4', '25080425_08_2019_08_53_48.mp4',\n",
    "          '25080425_08_2019_08_55_59.mp4', '25080425_08_2019_09_05_40.mp4', '25080425_08_2019_09_08_25.mp4']"
   ]
  },
  {
   "cell_type": "code",
   "execution_count": null,
   "metadata": {},
   "outputs": [],
   "source": [
    "path_exams = '/media/marcos/Dados/Projects/Datasets/exams'\n",
    "os.listdir(path_exams)[0:5]"
   ]
  },
  {
   "cell_type": "code",
   "execution_count": null,
   "metadata": {},
   "outputs": [],
   "source": [
    "path_out = '/media/marcos/Dados/Projects/Results/PupilDeep/'\n",
    "os.listdir(path_out)"
   ]
  },
  {
   "cell_type": "code",
   "execution_count": null,
   "metadata": {},
   "outputs": [],
   "source": [
    "exist_movies = [x in os.listdir(path_exams) for x in movies]\n",
    "exist_movies"
   ]
  },
  {
   "cell_type": "code",
   "execution_count": null,
   "metadata": {},
   "outputs": [],
   "source": [
    "list_frames = []\n",
    "\n",
    "for movie in movies:\n",
    "    exam = cv2.VideoCapture('{}/{}'.format(path_exams, movie))\n",
    "        \n",
    "    aux = 1\n",
    "    \n",
    "    _, frame = exam.read()    \n",
    "    while not (frame is None):        \n",
    "        if aux > number_frames:\n",
    "            break\n",
    "            \n",
    "        list_frames.append(frame)\n",
    "        \n",
    "        name_out = '{}/{}_{}.png'.format(path_out, movie.replace('.mp4', ''), aux)\n",
    "        cv2.imwrite(name_out, frame)    \n",
    "        \n",
    "        _, frame = exam.read()\n",
    "        aux += 1"
   ]
  },
  {
   "cell_type": "code",
   "execution_count": null,
   "metadata": {},
   "outputs": [],
   "source": [
    "x, y, _ = list_frames[0].shape\n",
    "\n",
    "fourcc = cv2.VideoWriter_fourcc(*'XVID')\n",
    "out = cv2.VideoWriter('{}/benchmark.mp4'.format(path_out), fourcc, 20.0, (y, x))\n",
    "\n",
    "for i in range(len(list_frames)):\n",
    "    out.write(list_frames[i])\n",
    "\n",
    "out.release()"
   ]
  },
  {
   "cell_type": "code",
   "execution_count": null,
   "metadata": {},
   "outputs": [],
   "source": []
  }
 ],
 "metadata": {
  "kernelspec": {
   "display_name": "Python 3",
   "language": "python",
   "name": "python3"
  },
  "language_info": {
   "codemirror_mode": {
    "name": "ipython",
    "version": 3
   },
   "file_extension": ".py",
   "mimetype": "text/x-python",
   "name": "python",
   "nbconvert_exporter": "python",
   "pygments_lexer": "ipython3",
   "version": "3.6.10"
  }
 },
 "nbformat": 4,
 "nbformat_minor": 4
}
