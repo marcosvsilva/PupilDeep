{
 "cells": [
  {
   "cell_type": "code",
   "execution_count": null,
   "metadata": {},
   "outputs": [],
   "source": [
    "import cv2\n",
    "import os\n",
    "import numpy as np\n",
    "import matplotlib.pyplot as plt"
   ]
  },
  {
   "cell_type": "code",
   "execution_count": null,
   "metadata": {},
   "outputs": [],
   "source": [
    "%matplotlib notebook"
   ]
  },
  {
   "cell_type": "code",
   "execution_count": null,
   "metadata": {},
   "outputs": [],
   "source": [
    "# Param\n",
    "frame = 'original_80'\n",
    "\n",
    "# Fix Parm\n",
    "path = os.getcwd().replace('/auxiliaries', '/pupil_deep/eye_test/out')\n",
    "path_in = '{}/25080225_08_2019_08_37_59/{}.png'.format(path, frame)\n",
    "print(path_in)\n",
    "\n",
    "path_out = '{}/out.png'.format(path)\n",
    "print(path_out)"
   ]
  },
  {
   "cell_type": "code",
   "execution_count": null,
   "metadata": {},
   "outputs": [],
   "source": [
    "def gamma_correction(img_original, gamma=1.0):\n",
    "    inv_gamma = 1.0 / gamma\n",
    "    table = np.array([((i / 255.0) ** inv_gamma) * 255\n",
    "                      for i in np.arange(0, 256)]).astype(\"uint8\")\n",
    "    \n",
    "    return cv2.LUT(img_original, table)"
   ]
  },
  {
   "cell_type": "code",
   "execution_count": null,
   "metadata": {},
   "outputs": [],
   "source": [
    "img = cv2.imread(path_in)\n",
    "\n",
    "print(img.shape)\n",
    "\n",
    "img1 = gamma_correction(img, 0.7)\n",
    "img2 = gamma_correction(img1, 0.7)\n",
    "img3 = gamma_correction(img2, 0.7)\n",
    "img4 = gamma_correction(img3, 0.7)\n",
    "img5 = gamma_correction(img4, 0.7)\n",
    "img6 = gamma_correction(img5, 0.7)\n",
    "img7 = gamma_correction(img6, 0.7)\n",
    "img8 = gamma_correction(img7, 0.7)\n",
    "img9 = gamma_correction(img8, 0.7)\n",
    "\n",
    "print(np.array(img).mean())\n",
    "print(np.array(img1).mean())\n",
    "print(np.array(img2).mean())\n",
    "print(np.array(img3).mean())\n",
    "print(np.array(img4).mean())\n",
    "print(np.array(img5).mean())\n",
    "print(np.array(img6).mean())\n",
    "print(np.array(img7).mean())\n",
    "print(np.array(img8).mean())\n",
    "print(np.array(img9).mean())\n",
    "\n",
    "final1 = cv2.hconcat([img1, img2, img3])\n",
    "final2 = cv2.hconcat([img4, img5, img6])\n",
    "final3 = cv2.hconcat([img7, img8, img9])\n",
    "final = cv2.vconcat([final1, final2, final3])\n",
    "\n",
    "plt.imshow(final)\n",
    "cv2.imwrite(path_out, final)"
   ]
  },
  {
   "cell_type": "code",
   "execution_count": null,
   "metadata": {},
   "outputs": [],
   "source": []
  }
 ],
 "metadata": {
  "kernelspec": {
   "display_name": "Python 3",
   "language": "python",
   "name": "python3"
  },
  "language_info": {
   "codemirror_mode": {
    "name": "ipython",
    "version": 3
   },
   "file_extension": ".py",
   "mimetype": "text/x-python",
   "name": "python",
   "nbconvert_exporter": "python",
   "pygments_lexer": "ipython3",
   "version": "3.6.10"
  }
 },
 "nbformat": 4,
 "nbformat_minor": 4
}
