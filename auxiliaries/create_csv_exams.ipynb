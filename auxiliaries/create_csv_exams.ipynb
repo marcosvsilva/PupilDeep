{
 "cells": [
  {
   "cell_type": "code",
   "execution_count": null,
   "metadata": {},
   "outputs": [],
   "source": [
    "import os\n",
    "import cv2\n",
    "import pandas as pd\n",
    "import numpy as np\n",
    "import math\n",
    "import json\n",
    "from scipy.stats import mode"
   ]
  },
  {
   "cell_type": "code",
   "execution_count": null,
   "metadata": {},
   "outputs": [],
   "source": [
    "%matplotlib inline\n",
    "%config InlineBackend.rc={'figure.figsize': (12, 8)}"
   ]
  },
  {
   "cell_type": "markdown",
   "metadata": {},
   "source": [
    "# Params"
   ]
  },
  {
   "cell_type": "code",
   "execution_count": null,
   "metadata": {},
   "outputs": [],
   "source": [
    "# Execution params\n",
    "\n",
    "folder_labels = 'Labels'\n",
    "\n",
    "len_list_calc_normal = 40\n",
    "len_list_calc_focus = 15\n",
    "\n",
    "thresould_quantile = 1.5\n",
    "jump_after_stimulus = 50\n",
    "\n",
    "seconds_before_stimul = 2\n",
    "seconds_after_stimul = 5\n",
    "seconds_after_stimul_2 = 10\n",
    "\n",
    "alter_to = 'median' # ['mode', 'median']"
   ]
  },
  {
   "cell_type": "code",
   "execution_count": null,
   "metadata": {},
   "outputs": [],
   "source": [
    "# Paths\n",
    "\n",
    "path_exam_dataset = '/media/marcos/Dados/Projects/Datasets/Exams'\n",
    "path_information = '/media/marcos/Dados/Projects/Datasets/Exams/informations_exams'\n",
    "path_labels = '/media/marcos/Dados/Projects/Results/PupilDeep/{}'.format(folder_labels)\n",
    "path_out = '/media/marcos/Dados/Projects/Results/PupilDeep/{}/process'.format(folder_labels)\n",
    "\n",
    "path_process_labels = '{}/process_labels'.format(path_out)\n",
    "path_original_graphs = '{}/original_graphs'.format(path_out)\n",
    "path_process_graphs = '{}/process_graphs'.format(path_out)\n",
    "\n",
    "path_out_csv = '{}/process.csv'.format(path_out)\n",
    "path_log = '{}/log.txt'.format(path_out)"
   ]
  },
  {
   "cell_type": "markdown",
   "metadata": {},
   "source": [
    "# Funtions of treatment"
   ]
  },
  {
   "cell_type": "code",
   "execution_count": null,
   "metadata": {},
   "outputs": [],
   "source": [
    "def make_path(path_dir):\n",
    "    try:\n",
    "        os.mkdir(path_dir)\n",
    "    except FileExistsError:\n",
    "        pass"
   ]
  },
  {
   "cell_type": "code",
   "execution_count": null,
   "metadata": {},
   "outputs": [],
   "source": [
    "def remove_labels(path_remove):\n",
    "    try:\n",
    "        for file in os.listdir(path_remove):\n",
    "            if ('.csv' in file) or ('.pdf' in file) or ('.txt' in file):\n",
    "                remove = '{}/{}'.format(path_remove, file)\n",
    "                os.remove(remove)\n",
    "    except OSError as e:\n",
    "        print(\"Failed with:\", e.strerror) # look what it says\n",
    "        print(\"Error code:\", e.code)"
   ]
  },
  {
   "cell_type": "code",
   "execution_count": null,
   "metadata": {},
   "outputs": [],
   "source": [
    "def save_log(log):\n",
    "    with open(path_log, 'a') as file_out:\n",
    "        file_out.write('{}\\n'.format(log))    "
   ]
  },
  {
   "cell_type": "code",
   "execution_count": null,
   "metadata": {},
   "outputs": [],
   "source": [
    "def create_csv_general(args):\n",
    "    if len(args) != len(csv_out_header.split(',')):\n",
    "        raise Exception('Numbers of paramns for generate full dataset is diferente of header!')\n",
    "    \n",
    "    args = [str(x).replace(',','-') for x in args]\n",
    "    information = ','.join(args)\n",
    "    with open(path_out_csv, 'a') as csv_out:\n",
    "        csv_out.write('{}\\n'.format(information))"
   ]
  },
  {
   "cell_type": "code",
   "execution_count": null,
   "metadata": {},
   "outputs": [],
   "source": [
    "def plot_graph(dataset, path_save_graph, title):\n",
    "    title_graph = '{}\\nlsrn: {}, lsrf: {}, tq: {}, at: {}, '.format(\n",
    "        title, len_list_calc_normal, len_list_calc_focus, thresould_quantile, alter_to)\n",
    "    \n",
    "    img = dataset.plot.line(x='frame', y='radius', linestyle='-', markevery=100, marker='o', title=title)\n",
    "    img.figure.savefig('{}/{}.pdf'.format(path_save_graph, title.replace('.csv', '')))"
   ]
  },
  {
   "cell_type": "code",
   "execution_count": null,
   "metadata": {},
   "outputs": [],
   "source": [
    "def calc_frame_stimul(time_stimul, fps_movie):\n",
    "    stimul = time_stimul\n",
    "    iMinuts = int(stimul[0:stimul.find(':')])\n",
    "    iSeconds = int(stimul[stimul.find(':')+1:stimul.rfind(':')])\n",
    "    iMilliseconds = int(stimul[stimul.rfind(':')+1:len(stimul)])\n",
    "    frame = math.ceil((iMinuts*(fps_movie*60))+(iSeconds*fps_movie)+((iMilliseconds*fps_movie)/100))\n",
    "    return frame"
   ]
  },
  {
   "cell_type": "code",
   "execution_count": null,
   "metadata": {},
   "outputs": [],
   "source": [
    "def get_information_exam(path_read_information, fps_movie): \n",
    "    patient, params, stimulus = '', '', []\n",
    "    print(path_read_information)\n",
    "    with open(path_read_information, 'r') as information:\n",
    "        activate = False\n",
    "        for line in information.readlines():            \n",
    "            if 'PAC' in line:\n",
    "                patient = line[line.rfind(':')+2:len(line)-1]\n",
    "            if 'PRM' in line:\n",
    "                param = line[line.rfind(':')+2:len(line)-1]\n",
    "            if 'ATV' in line:\n",
    "                stimul = line[line.rfind(':')+2:len(line)-1]\n",
    "                init_stimul = calc_frame_stimul(line[0:line.rfind('-')-1], fps_movie)\n",
    "                activate = not activate\n",
    "            if 'DTV' in line:\n",
    "                if activate:\n",
    "                    activate = not activate\n",
    "                    end_stimul = calc_frame_stimul(line[0:line.rfind('-')-1], fps_movie)\n",
    "                    stimulus.append({'stimul': stimul,\n",
    "                                     'init_stimul': init_stimul,\n",
    "                                     'end_stimul': end_stimul})\n",
    "    \n",
    "    return patient, param, stimulus"
   ]
  },
  {
   "cell_type": "code",
   "execution_count": null,
   "metadata": {},
   "outputs": [],
   "source": [
    "def outlier_treatment(dataset):\n",
    "    Q1 = dataset['radius'].quantile(0.25)\n",
    "    Q3 = dataset['radius'].quantile(0.75)\n",
    "    IQR = Q3 - Q1    \n",
    "    \n",
    "    tq = thresould_quantile\n",
    "    filter_q = (dataset['radius'] >= Q1 - tq * IQR) & (dataset['radius'] <= Q3 + tq * IQR)\n",
    "    filter_q = [frame for frame, avaliable in filter_q.iteritems() if not avaliable]\n",
    "    \n",
    "    for frame in  filter_q:\n",
    "        list_radius = np.array([])\n",
    "        list_radius = dataset.loc[frame:frame+len_list_calc_normal].radius\n",
    "        dataset['radius'][frame] = int(np.median(list_radius))\n",
    "    \n",
    "    return dataset"
   ]
  },
  {
   "cell_type": "code",
   "execution_count": null,
   "metadata": {},
   "outputs": [],
   "source": [
    "def treat_dataset(dataset, stimulus_treat):\n",
    "    aux = 0\n",
    "    for stimul in stimulus_treat:\n",
    "        flash_dataset = dataset.loc[stimul['init_stimul']:stimul['end_stimul']]\n",
    "        work_dataset = dataset.loc[aux:stimul['init_stimul']-1]\n",
    "\n",
    "        frames_mod = mode(work_dataset['radius'])[0][0]\n",
    "        frames_median = work_dataset['radius'].median()\n",
    "        new_radius = frames_mod if alter_to == 'mode' else frames_median\n",
    "\n",
    "        for index, item in flash_dataset.iterrows():\n",
    "            dataset['radius'][index] = new_radius\n",
    "\n",
    "        for index, item in work_dataset.iterrows():\n",
    "            len_list = len_list_calc_normal\n",
    "            if index > stimulus_treat[0]['init_stimul']:\n",
    "                if index <= aux + jump_after_stimulus:\n",
    "                    len_list = len_list_calc_focus\n",
    "\n",
    "            range_dataset = work_dataset.loc[index:index+len_list]\n",
    "            frames_mod = mode(range_dataset['radius'])[0][0]\n",
    "            frames_median = range_dataset['radius'].median()\n",
    "            new_radius = frames_mod if alter_to == 'mode' else frames_median\n",
    "            dataset['radius'][index] = new_radius\n",
    "\n",
    "    return dataset"
   ]
  },
  {
   "cell_type": "code",
   "execution_count": null,
   "metadata": {},
   "outputs": [],
   "source": [
    "def arrange_stimulus(dataset, stimulus_treat, fps_exam):\n",
    "    limit = dataset.shape[0]\n",
    "    stimulus = []\n",
    "    for stimul in stimulus_treat:\n",
    "        frame_before = math.ceil(stimul['init_stimul'] - (seconds_before_stimul * fps_exam))\n",
    "        frame_after_1 = math.ceil(stimul['end_stimul'] + (seconds_after_stimul * fps_exam))\n",
    "        frame_after_2 = math.ceil(stimul['end_stimul'] + (seconds_after_stimul_2 * fps_exam))\n",
    "        \n",
    "        frame_before = frame_before if frame_before >= 0 else 0\n",
    "        frame_after_1 = frame_after_1 if frame_after_1 < limit else limit-1\n",
    "        frame_after_2 = frame_after_2 if frame_after_2 < limit else limit-1\n",
    "        \n",
    "        before_stimulus = dataset['radius'][frame_before]\n",
    "        after_stimulus_1 = dataset['radius'][frame_after_1]\n",
    "        after_stimulus_2 = dataset['radius'][frame_after_2]\n",
    "        \n",
    "        aux = {'stimul' : str(stimul['stimul']), 'size_before_stimul': str(before_stimulus),\n",
    "               'frame_init_stimul': str(stimul['init_stimul']), 'frame_end_stimul': str(stimul['end_stimul']),\n",
    "               'size_after_{}_seconds'.format(seconds_after_stimul): str(after_stimulus_1),\n",
    "               'size_after_{}_seconds'.format(seconds_after_stimul_2): str(after_stimulus_2)}\n",
    "        \n",
    "        stimulus.append(aux)\n",
    "    \n",
    "    return stimulus"
   ]
  },
  {
   "cell_type": "markdown",
   "metadata": {},
   "source": [
    "# Init process of treatment label dataset"
   ]
  },
  {
   "cell_type": "code",
   "execution_count": null,
   "metadata": {},
   "outputs": [],
   "source": [
    "# Clear directories\n",
    "make_path(path_out)\n",
    "make_path(path_process_labels)\n",
    "make_path(path_original_graphs)\n",
    "make_path(path_process_graphs)\n",
    "\n",
    "remove_labels(path_out)\n",
    "remove_labels(path_process_labels)\n",
    "remove_labels(path_original_graphs)\n",
    "remove_labels(path_process_graphs)"
   ]
  },
  {
   "cell_type": "code",
   "execution_count": null,
   "metadata": {},
   "outputs": [],
   "source": [
    "list_labels = [x for x in os.listdir(path_labels) if '_label.csv' in x]\n",
    "print('{}\\n{}'.format(list_labels[0:3], len(list_labels)))"
   ]
  },
  {
   "cell_type": "code",
   "execution_count": null,
   "metadata": {},
   "outputs": [],
   "source": [
    "csv_out_header = 'patient,param,stimulus,eye_size,frame_meam,frame_std,frame_median'\n",
    "print(csv_out_header)"
   ]
  },
  {
   "cell_type": "code",
   "execution_count": null,
   "metadata": {},
   "outputs": [],
   "source": [
    "create_csv_general(csv_out_header.split(','))"
   ]
  },
  {
   "cell_type": "code",
   "execution_count": null,
   "metadata": {
    "scrolled": false
   },
   "outputs": [],
   "source": [
    "for label in list_labels:\n",
    "    name_exam = label.replace('_label.csv', '')\n",
    "    \n",
    "    if 'benchmark' in name_exam:\n",
    "        continue\n",
    "    \n",
    "    file_exam = '{}/{}.mp4'.format(path_exam_dataset, name_exam)    \n",
    "    exam = cv2.VideoCapture(file_exam)    \n",
    "    fps = exam.get(cv2.CAP_PROP_FPS)\n",
    "    \n",
    "    file_in = '{}/{}'.format(path_labels, label)\n",
    "    file_out = '{}/{}'.format(path_process_labels, label)\n",
    "    information = '{}/{}.log'.format(path_information, name_exam)\n",
    "        \n",
    "    patient, param, stimulus = get_information_exam(information, fps)\n",
    "    \n",
    "    if len(stimulus) <= 0:\n",
    "        raise Exception('No exists stimuls in exam: {}'.format(name_exam))\n",
    "    \n",
    "    dataset = pd.read_csv(file_in)\n",
    "    plot_graph(dataset, path_original_graphs, '%s_%s' % (label, 'original'))\n",
    "    \n",
    "    dataset = outlier_treatment(dataset)\n",
    "    dataset = treat_dataset(dataset, stimulus)\n",
    "    plot_graph(dataset, path_process_graphs, '%s_%s' % (label, 'treat'))    \n",
    "    \n",
    "    params_stimulus = arrange_stimulus(dataset, stimulus, fps)\n",
    "    str_stimulus = [json.dumps(x) for x in params_stimulus]\n",
    "        \n",
    "    csv_parms = [patient, param, str_stimulus,dataset['eye_size'].mean(),\n",
    "                 dataset['img_mean'].mean(),dataset['img_std'].mean(),\n",
    "                 dataset['img_median'].mean()]\n",
    "    \n",
    "    create_csv_general(csv_parms)\n",
    "\n",
    "    dataset.to_csv(file_out, index = False, header=True)"
   ]
  },
  {
   "cell_type": "code",
   "execution_count": null,
   "metadata": {},
   "outputs": [],
   "source": []
  }
 ],
 "metadata": {
  "kernelspec": {
   "display_name": "Python 3",
   "language": "python",
   "name": "python3"
  },
  "language_info": {
   "codemirror_mode": {
    "name": "ipython",
    "version": 3
   },
   "file_extension": ".py",
   "mimetype": "text/x-python",
   "name": "python",
   "nbconvert_exporter": "python",
   "pygments_lexer": "ipython3",
   "version": "3.6.10"
  }
 },
 "nbformat": 4,
 "nbformat_minor": 4
}
