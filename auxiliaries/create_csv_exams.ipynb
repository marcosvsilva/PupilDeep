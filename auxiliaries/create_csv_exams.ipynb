{
 "cells": [
  {
   "cell_type": "code",
   "execution_count": 42,
   "metadata": {},
   "outputs": [],
   "source": [
    "import os\n",
    "import pandas as pd\n",
    "import numpy as np\n",
    "from scipy.stats import mode"
   ]
  },
  {
   "cell_type": "code",
   "execution_count": 43,
   "metadata": {},
   "outputs": [],
   "source": [
    "%matplotlib inline\n",
    "%config InlineBackend.rc={'figure.figsize': (12, 8)}"
   ]
  },
  {
   "cell_type": "code",
   "execution_count": 44,
   "metadata": {},
   "outputs": [],
   "source": [
    "# Params\n",
    "\n",
    "especific_exam = '25080125_08_2019_08_32_38_label'\n",
    "\n",
    "len_list_calc_normal = 40\n",
    "len_list_calc_focus = 15\n",
    "\n",
    "thresould_quantile = 1.5\n",
    "jump_after_stimulus = 50\n",
    "\n",
    "outlier_loop = 1\n",
    "alter_to = 'median' # ['mode', 'median']"
   ]
  },
  {
   "cell_type": "code",
   "execution_count": 45,
   "metadata": {},
   "outputs": [],
   "source": [
    "path_labels = '/media/marcos/Dados/Projects/Results/PupilDeep/Labels'\n",
    "path_out = '/media/marcos/Dados/Projects/Results/PupilDeep/Labels/process'\n",
    "path_information = '/media/marcos/Dados/Projects/Datasets/exams/informations_exams'\n",
    "path_log = '{}/log.txt'.format(path_out)"
   ]
  },
  {
   "cell_type": "code",
   "execution_count": 46,
   "metadata": {},
   "outputs": [
    {
     "name": "stdout",
     "output_type": "stream",
     "text": [
      "['25080125_08_2019_08_32_38_label.csv']\n"
     ]
    }
   ],
   "source": [
    "list_labels = []\n",
    "if especific_exam == '':\n",
    "    for files in os.listdir(path_labels):\n",
    "        if '_label.csv' in files:\n",
    "            list_labels.append(files)\n",
    "else:\n",
    "    exam = '{}.csv'.format(especific_exam)\n",
    "    if exam in os.listdir(path_labels):\n",
    "        list_labels.append(exam)\n",
    "    else:\n",
    "        raise Exception('Not found especific exam!')\n",
    "\n",
    "print(list_labels)"
   ]
  },
  {
   "cell_type": "code",
   "execution_count": 47,
   "metadata": {},
   "outputs": [],
   "source": [
    "def create_csv_out(label):\n",
    "    file_in = '{}/{}'.format(path_labels, label)\n",
    "    file_out = '{}/{}'.format(path_out, label)\n",
    "    \n",
    "    with open(file_in, 'r') as csv_in:\n",
    "        with open(file_out, 'a') as csv_out:\n",
    "            for line in csv_in.readlines():\n",
    "                if 'Execition' not in line:\n",
    "                    csv_out.write(line)"
   ]
  },
  {
   "cell_type": "code",
   "execution_count": 48,
   "metadata": {},
   "outputs": [],
   "source": [
    "def make_path(path):\n",
    "    try:\n",
    "        os.mkdir(path)\n",
    "    except FileExistsError:\n",
    "        pass"
   ]
  },
  {
   "cell_type": "code",
   "execution_count": 120,
   "metadata": {},
   "outputs": [],
   "source": [
    "def remove_labels(path_out):\n",
    "    try:\n",
    "        for file in os.listdir(path_out):\n",
    "            remove = '{}/{}'.format(path_out, file)\n",
    "            print(remove)\n",
    "            os.remove(remove)\n",
    "    except OSError as e:\n",
    "        #pass\n",
    "        print(\"Failed with:\", e.strerror) # look what it says\n",
    "        print(\"Error code:\", e.code)"
   ]
  },
  {
   "cell_type": "code",
   "execution_count": 121,
   "metadata": {},
   "outputs": [],
   "source": [
    "def outlier_treatment_loop(dataset):\n",
    "    Q1 = dataset['radius'].quantile(0.25)\n",
    "    Q3 = dataset['radius'].quantile(0.75)\n",
    "    IQR = Q3 - Q1    \n",
    "    \n",
    "    tq = thresould_quantile\n",
    "    filter_q = (dataset['radius'] >= Q1 - tq * IQR) & (dataset['radius'] <= Q3 + tq * IQR)\n",
    "    filter_q = [frame for frame, avaliable in filter_q.iteritems() if not avaliable]\n",
    "    \n",
    "    for frame in  filter_q:\n",
    "        list_radius = np.array([])\n",
    "        list_radius = dataset.loc[frame:frame+len_list_calc_normal].radius\n",
    "        dataset['radius'][frame] = int(np.median(list_radius))\n",
    "    \n",
    "    return dataset"
   ]
  },
  {
   "cell_type": "code",
   "execution_count": 122,
   "metadata": {},
   "outputs": [],
   "source": [
    "def outlier_treatment(dataset):\n",
    "    for i in range(outlier_loop):\n",
    "        log = 'loop outlier treatment: {}'.format(i)\n",
    "        save_log(log)\n",
    "        dataset = outlier_treatment_loop(dataset)\n",
    "    \n",
    "    return dataset"
   ]
  },
  {
   "cell_type": "code",
   "execution_count": 123,
   "metadata": {},
   "outputs": [],
   "source": [
    "def treat_dataset(dataset):\n",
    "    init_range, end_range = get_range_flash(dataset)\n",
    "    \n",
    "    aux = 0\n",
    "    for i in range(0, len(init_range)):        \n",
    "        flash_dataset = dataset.loc[init_range[i]:end_range[i]]\n",
    "        work_dataset = dataset.loc[aux:init_range[i]-1]\n",
    "        \n",
    "        frames_mod = mode(work_dataset['radius'])[0][0]\n",
    "        frames_median = work_dataset['radius'].median()\n",
    "        new_radius = frames_mod if alter_to == 'mode' else frames_median\n",
    "        \n",
    "        for index, item in flash_dataset.iterrows():\n",
    "            dataset['radius'][index] = new_radius\n",
    "                \n",
    "        for index, item in work_dataset.iterrows():\n",
    "            len_list = len_list_calc_normal\n",
    "            if index > init_range[0]:\n",
    "                if index <= aux + jump_after_stimulus:\n",
    "                    len_list = len_list_calc_focus\n",
    "                    \n",
    "            range_dataset = work_dataset.loc[index:index+len_list]\n",
    "            frames_mod = mode(range_dataset['radius'])[0][0]\n",
    "            frames_median = range_dataset['radius'].median()\n",
    "            new_radius = frames_mod if alter_to == 'mode' else frames_median\n",
    "            dataset['radius'][index] = new_radius\n",
    "        \n",
    "        aux = end_range[i]+1\n",
    "    \n",
    "    return dataset"
   ]
  },
  {
   "cell_type": "code",
   "execution_count": 124,
   "metadata": {},
   "outputs": [],
   "source": [
    "def extract_important_information(dataset):\n",
    "    \n",
    "    new_dataset = {[]}"
   ]
  },
  {
   "cell_type": "code",
   "execution_count": 125,
   "metadata": {},
   "outputs": [],
   "source": [
    "def get_range_flash(dataset):\n",
    "    filter_flash = dataset['flash'] > 0\n",
    "    frames_flash = [frame for frame, avaliable in filter_flash.iteritems() if avaliable]    \n",
    "    \n",
    "    init_range = [frames_flash[0]]\n",
    "    end_range = []\n",
    "    \n",
    "    for i in range(0, len(frames_flash)-1):\n",
    "        if frames_flash[i]+1 != frames_flash[i+1]:\n",
    "            end_range.append(frames_flash[i])\n",
    "            init_range.append(frames_flash[i+1])\n",
    "            \n",
    "    end_range.append(frames_flash[len(frames_flash)-1])\n",
    "    \n",
    "    return init_range, end_range"
   ]
  },
  {
   "cell_type": "code",
   "execution_count": 126,
   "metadata": {},
   "outputs": [],
   "source": [
    "def save_log(log):\n",
    "    with open(path_log, 'a') as file_out:\n",
    "        file_out.write('{}\\n'.format(log))    "
   ]
  },
  {
   "cell_type": "code",
   "execution_count": 127,
   "metadata": {},
   "outputs": [],
   "source": [
    "def plot_graph(dataset, title):\n",
    "    title_graph = '{}\\nlsrn: {}, lsrf: {}, tq: {}, ol: {}, at: {}, '.format(\n",
    "        title, len_list_calc_normal, len_list_calc_focus, thresould_quantile, outlier_loop, alter_to)\n",
    "    \n",
    "    img = dataset.plot.line(x='frame', y='radius', linestyle='-', markevery=100, marker='o', title=title_graph)\n",
    "    img.figure.savefig('{}/{}.pdf'.format(path_out, title.replace('.csv', '')))"
   ]
  },
  {
   "cell_type": "code",
   "execution_count": 133,
   "metadata": {
    "scrolled": true
   },
   "outputs": [
    {
     "name": "stdout",
     "output_type": "stream",
     "text": [
      "   frame  center_x  center_y  radius  flash  eye_size    img_mean    img_std\n",
      "0      0       273       252      48      0         0  128.101331  71.663002\n",
      "1      1       266       237      57      0         0  128.141810  71.605758\n",
      "2      2       267       250      48      0         0  128.153053  71.501207\n",
      "3      3       263       254      49      0         0  128.134134  71.548998\n",
      "4      4       258       247      57      0         0  128.129733  71.526607\n"
     ]
    },
    {
     "name": "stderr",
     "output_type": "stream",
     "text": [
      "/home/marcos/.local/lib/python3.6/site-packages/ipykernel_launcher.py:13: SettingWithCopyWarning: \n",
      "A value is trying to be set on a copy of a slice from a DataFrame\n",
      "\n",
      "See the caveats in the documentation: http://pandas.pydata.org/pandas-docs/stable/user_guide/indexing.html#returning-a-view-versus-a-copy\n",
      "  del sys.path[0]\n",
      "/home/marcos/.local/lib/python3.6/site-packages/ipykernel_launcher.py:14: SettingWithCopyWarning: \n",
      "A value is trying to be set on a copy of a slice from a DataFrame\n",
      "\n",
      "See the caveats in the documentation: http://pandas.pydata.org/pandas-docs/stable/user_guide/indexing.html#returning-a-view-versus-a-copy\n",
      "  \n",
      "/home/marcos/.local/lib/python3.6/site-packages/ipykernel_launcher.py:26: SettingWithCopyWarning: \n",
      "A value is trying to be set on a copy of a slice from a DataFrame\n",
      "\n",
      "See the caveats in the documentation: http://pandas.pydata.org/pandas-docs/stable/user_guide/indexing.html#returning-a-view-versus-a-copy\n"
     ]
    },
    {
     "name": "stdout",
     "output_type": "stream",
     "text": [
      "   frame  center_x  center_y  radius  flash  eye_size    img_mean    img_std\n",
      "0      0       273       252      55      0         0  128.101331  71.663002\n",
      "1      1       266       237      55      0         0  128.141810  71.605758\n",
      "2      2       267       250      54      0         0  128.153053  71.501207\n",
      "3      3       263       254      54      0         0  128.134134  71.548998\n",
      "4      4       258       247      54      0         0  128.129733  71.526607\n"
     ]
    },
    {
     "data": {
      "image/png": "[encoded data removed]",
      "text/plain": [
       "<Figure size 864x576 with 1 Axes>"
      ]
     },
     "metadata": {
      "needs_background": "light"
     },
     "output_type": "display_data"
    }
   ],
   "source": [
    "path_out = '{}/process'.format(path_labels)\n",
    "\n",
    "make_path(path_out)\n",
    "remove_labels(path_out)\n",
    "\n",
    "for label in list_labels:\n",
    "    create_csv_out(label)\n",
    "\n",
    "    file_in = '{}/{}'.format(path_out, label)\n",
    "    file_out = '{}/process_{}'.format(path_out, label)\n",
    "\n",
    "    dataset = pd.read_csv(file_in)    \n",
    "    print(dataset.head())\n",
    "\n",
    "    dataset = outlier_treatment(dataset)\n",
    "    dataset = treat_dataset(dataset)\n",
    "\n",
    "    print(dataset.head())    \n",
    "\n",
    "    plot_graph(dataset, label)\n",
    "\n",
    "    dataset.to_csv(file_out, index = False, header=True)"
   ]
  },
  {
   "cell_type": "code",
   "execution_count": null,
   "metadata": {},
   "outputs": [],
   "source": []
  },
  {
   "cell_type": "code",
   "execution_count": null,
   "metadata": {},
   "outputs": [],
   "source": []
  }
 ],
 "metadata": {
  "kernelspec": {
   "display_name": "Python 3",
   "language": "python",
   "name": "python3"
  },
  "language_info": {
   "codemirror_mode": {
    "name": "ipython",
    "version": 3
   },
   "file_extension": ".py",
   "mimetype": "text/x-python",
   "name": "python",
   "nbconvert_exporter": "python",
   "pygments_lexer": "ipython3",
   "version": "3.6.10"
  }
 },
 "nbformat": 4,
 "nbformat_minor": 4
}
