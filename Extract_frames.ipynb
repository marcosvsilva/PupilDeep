{
 "cells": [
  {
   "cell_type": "code",
   "execution_count": 4,
   "metadata": {},
   "outputs": [],
   "source": [
    "import cv2"
   ]
  },
  {
   "cell_type": "code",
   "execution_count": 16,
   "metadata": {},
   "outputs": [],
   "source": [
    "def extract_frames(movie, path):\n",
    "    number_frame = 1\n",
    "    while True:\n",
    "        _, frame = movie.read()\n",
    "        \n",
    "        if frame is None:\n",
    "            break\n",
    "        \n",
    "        path_save = '{}\\\\{}.png'.format(path, number_frame)\n",
    "        cv2.imwrite(path_save, frame)\n",
    "        number_frame += 1"
   ]
  },
  {
   "cell_type": "code",
   "execution_count": 17,
   "metadata": {},
   "outputs": [],
   "source": [
    "path_video = \"C:\\\\Users\\\\marco\\\\Downloads\\\\030703_07_2019_08_16_37online-vi.mp4\"\n",
    "path_from = \"C:\\\\Users\\\\marco\\\\Pictures\\\\Frames_video\""
   ]
  },
  {
   "cell_type": "code",
   "execution_count": 18,
   "metadata": {},
   "outputs": [],
   "source": [
    "dataset = cv2.VideoCapture(path_video)\n",
    "extract_frames(dataset, path_from)"
   ]
  },
  {
   "cell_type": "code",
   "execution_count": null,
   "metadata": {},
   "outputs": [],
   "source": []
  }
 ],
 "metadata": {
  "kernelspec": {
   "display_name": "Python 3",
   "language": "python",
   "name": "python3"
  },
  "language_info": {
   "codemirror_mode": {
    "name": "ipython",
    "version": 3
   },
   "file_extension": ".py",
   "mimetype": "text/x-python",
   "name": "python",
   "nbconvert_exporter": "python",
   "pygments_lexer": "ipython3",
   "version": "3.7.4"
  }
 },
 "nbformat": 4,
 "nbformat_minor": 2
}
