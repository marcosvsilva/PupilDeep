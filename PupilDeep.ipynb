{
 "cells": [
  {
   "cell_type": "code",
   "execution_count": 1,
   "metadata": {},
   "outputs": [
    {
     "name": "stderr",
     "output_type": "stream",
     "text": [
      "Using TensorFlow backend.\n"
     ]
    }
   ],
   "source": [
    "from keras.preprocessing.image import ImageDataGenerator\n",
    "from keras.optimizers import SGD\n",
    "from keras.layers import Conv2D, Dropout, MaxPooling2D, Flatten, Dense\n",
    "from keras.models import Model, Sequential\n",
    "from keras.applications.vgg16 import VGG16\n",
    "from keras.optimizers import RMSprop\n",
    "import matplotlib.pyplot as plt"
   ]
  },
  {
   "cell_type": "code",
   "execution_count": 4,
   "metadata": {},
   "outputs": [],
   "source": [
    "# Número de classes\n",
    "num_classes = 4\n",
    "\n",
    "# Tamanho do batch\n",
    "batch_size = 32\n",
    "\n",
    "# Dimensoes da VGG\n",
    "img_width, img_height, img_channel, color_mode = 224, 224, 3, 'grayscale'\n",
    "\n",
    "# Pesos pre-treinados da VGG16\n",
    "weights_vgg16 = \"weights_transferlearning/vgg16_weights.h5\"\n",
    "\n",
    "# Epocas, taxa de erro e otimizador\n",
    "epochs = 500\n",
    "lrate = 0.01\n",
    "optimizer = RMSprop(lr=lrate)\n",
    "\n",
    "# Função de ativação\n",
    "activation = 'softmax'\n",
    "\n",
    "# Loss\n",
    "loss = 'categorical_crossentropy'"
   ]
  },
  {
   "cell_type": "code",
   "execution_count": 5,
   "metadata": {},
   "outputs": [],
   "source": [
    "# Definindo caminho das imagens\n",
    "train_path = 'dataset/train'\n",
    "valid_path = 'dataset/val'\n",
    "test_path = 'dataset/test'\n",
    "\n",
    "# Data Generators\n",
    "train_datagen = ImageDataGenerator(rescale=1./255)\n",
    "val_test_datagen = ImageDataGenerator(rescale=1./255)"
   ]
  },
  {
   "cell_type": "code",
   "execution_count": 3,
   "metadata": {},
   "outputs": [],
   "source": []
  },
  {
   "cell_type": "code",
   "execution_count": null,
   "metadata": {},
   "outputs": [],
   "source": []
  }
 ],
 "metadata": {
  "kernelspec": {
   "display_name": "Python 3",
   "language": "python",
   "name": "python3"
  },
  "language_info": {
   "codemirror_mode": {
    "name": "ipython",
    "version": 3
   },
   "file_extension": ".py",
   "mimetype": "text/x-python",
   "name": "python",
   "nbconvert_exporter": "python",
   "pygments_lexer": "ipython3",
   "version": "3.7.4"
  }
 },
 "nbformat": 4,
 "nbformat_minor": 2
}
